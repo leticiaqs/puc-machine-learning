{
  "nbformat": 4,
  "nbformat_minor": 0,
  "metadata": {
    "colab": {
      "provenance": [],
      "authorship_tag": "ABX9TyNwWVuHKjqkKRbn72VL3k6H",
      "include_colab_link": true
    },
    "kernelspec": {
      "name": "python3",
      "display_name": "Python 3"
    },
    "language_info": {
      "name": "python"
    }
  },
  "cells": [
    {
      "cell_type": "markdown",
      "metadata": {
        "id": "view-in-github",
        "colab_type": "text"
      },
      "source": [
        "<a href=\"https://colab.research.google.com/github/leticiaqs/puc-machine-learning/blob/main/MVP_machine_learning_regression.ipynb\" target=\"_parent\"><img src=\"https://colab.research.google.com/assets/colab-badge.svg\" alt=\"Open In Colab\"/></a>"
      ]
    },
    {
      "cell_type": "markdown",
      "source": [
        "# MVP_PARTE A - MACHINE LEARNING\n",
        "\n"
      ],
      "metadata": {
        "id": "1_L9RbHtbux_"
      }
    },
    {
      "cell_type": "markdown",
      "source": [
        "## Descrição do Problema\n",
        "\n"
      ],
      "metadata": {
        "id": "gJ7XOrahW3ze"
      }
    },
    {
      "cell_type": "markdown",
      "source": [
        "O Rio de Janeiro é uma cidade que atrai muitas pessoas, especialmente pelo seu potencial turístico. Muitos daqueles que têm a Cidade Maravilhosa como destino acabam procurando o Airbnb para a escolha de sua hospedagem. Nesse sentido, o aluguel de apartamentos na plataforma também se tornou um negócio que pode ser bastante vantajoso para aqueles que possuem um bom imóvel e sabem tirar o melhor proveito dela.\n",
        "\n",
        "O problema proposto nesta parte do MVP consiste então em conseguir prever o preço da diária no Airbnb, considerando uma acomodação no Rio. Para essa predição, tem-se como base algumas das principais características da acomodação - tanto relacionadas a aspectos físicos do local, como aspectos referentes à prória plataforma, a exemplo de avaliações, rapidez para a reserva, etc.\n",
        "\n",
        "Uma vez que o resultado esperado se relaciona ao valor da diária, sendo uma variável numérica continua, trata-se então de um problema de regressão.\n",
        "\n",
        "Além disso, operações de feature selection que serão realizadas nesse processo poderão também contribuir para melhor compreender quais características possuem maior influência sobre a predição de preços, o que pode ser uma informação valiosa em termos de mercado."
      ],
      "metadata": {
        "id": "smB0dR_gf-iI"
      }
    },
    {
      "cell_type": "markdown",
      "source": [
        "### Características do dataset\n",
        "\n",
        "O dataset original consiste em uma planilha de texto que possui 106 colunas e 33715 entradas de dados (linha).\n",
        "\n",
        "Cada linha corresponde a uma acomodação anunciada no Airbnb localizada no Rio de Janeiro, e cada coluna traz alguma informação/característica respectiva.\n",
        "No entanto, há colunas que não geram grande contribuição para esse o problema colocado, tais como o id da acomodação ou o link do anúncio, o que será abordado mais a frente.\n",
        "\n",
        "Dataset original disponível em: https://www.kaggle.com/datasets/leonardopena/rio-de-janeiro-brazil-airbnb-data"
      ],
      "metadata": {
        "id": "WJXWqs3Ke4pn"
      }
    },
    {
      "cell_type": "markdown",
      "source": [
        "## Import de bibliotecas:"
      ],
      "metadata": {
        "id": "YtcYS-JkdCUl"
      }
    },
    {
      "cell_type": "code",
      "source": [
        "# tratamento e processamento dos dados\n",
        "import pandas as pd\n",
        "import numpy as np"
      ],
      "metadata": {
        "id": "bBUHVOMAdAhI"
      },
      "execution_count": 1,
      "outputs": []
    },
    {
      "cell_type": "code",
      "source": [
        "# visualização e gráficos\n",
        "import matplotlib.pyplot as plt\n",
        "import seaborn as sn"
      ],
      "metadata": {
        "id": "wAF1T8gG2HXh"
      },
      "execution_count": 2,
      "outputs": []
    },
    {
      "cell_type": "code",
      "source": [
        "#bibliotecas para load do dataset\n",
        "!pip install gdown\n",
        "import gdown\n",
        "import os\n"
      ],
      "metadata": {
        "colab": {
          "base_uri": "https://localhost:8080/"
        },
        "id": "wSA12Lga7Geo",
        "outputId": "d4616695-20aa-47f8-d421-22827df1ea70"
      },
      "execution_count": 3,
      "outputs": [
        {
          "output_type": "stream",
          "name": "stdout",
          "text": [
            "Requirement already satisfied: gdown in /usr/local/lib/python3.10/dist-packages (4.6.6)\n",
            "Requirement already satisfied: filelock in /usr/local/lib/python3.10/dist-packages (from gdown) (3.12.2)\n",
            "Requirement already satisfied: requests[socks] in /usr/local/lib/python3.10/dist-packages (from gdown) (2.27.1)\n",
            "Requirement already satisfied: six in /usr/local/lib/python3.10/dist-packages (from gdown) (1.16.0)\n",
            "Requirement already satisfied: tqdm in /usr/local/lib/python3.10/dist-packages (from gdown) (4.65.0)\n",
            "Requirement already satisfied: beautifulsoup4 in /usr/local/lib/python3.10/dist-packages (from gdown) (4.11.2)\n",
            "Requirement already satisfied: soupsieve>1.2 in /usr/local/lib/python3.10/dist-packages (from beautifulsoup4->gdown) (2.4.1)\n",
            "Requirement already satisfied: urllib3<1.27,>=1.21.1 in /usr/local/lib/python3.10/dist-packages (from requests[socks]->gdown) (1.26.16)\n",
            "Requirement already satisfied: certifi>=2017.4.17 in /usr/local/lib/python3.10/dist-packages (from requests[socks]->gdown) (2023.5.7)\n",
            "Requirement already satisfied: charset-normalizer~=2.0.0 in /usr/local/lib/python3.10/dist-packages (from requests[socks]->gdown) (2.0.12)\n",
            "Requirement already satisfied: idna<4,>=2.5 in /usr/local/lib/python3.10/dist-packages (from requests[socks]->gdown) (3.4)\n",
            "Requirement already satisfied: PySocks!=1.5.7,>=1.5.6 in /usr/local/lib/python3.10/dist-packages (from requests[socks]->gdown) (1.7.1)\n"
          ]
        }
      ]
    },
    {
      "cell_type": "code",
      "source": [
        "# bibliotecas para preparação do modelo e métricas\n",
        "from sklearn.model_selection import train_test_split # para particionar em bases de treino e teste (holdout)\n",
        "from sklearn.model_selection import KFold # para preparar os folds da validação cruzada\n",
        "from sklearn.model_selection import cross_val_score # para executar a validação cruzada\n",
        "from sklearn.metrics import mean_squared_error, r2_score # métrica de avaliação MSE e R2\n"
      ],
      "metadata": {
        "id": "u5Q-sZh9ejiA"
      },
      "execution_count": 4,
      "outputs": []
    },
    {
      "cell_type": "code",
      "source": [
        "# bibliotecas para feature selection\n",
        "from sklearn.feature_selection import SelectKBest, r_regression, SelectFromModel\n",
        "from sklearn.ensemble import ExtraTreesRegressor"
      ],
      "metadata": {
        "id": "wo8_agbRiLmX"
      },
      "execution_count": 5,
      "outputs": []
    },
    {
      "cell_type": "code",
      "source": [
        "# pipelines\n",
        "from sklearn.pipeline import Pipeline"
      ],
      "metadata": {
        "id": "OXqIQWUNdpcM"
      },
      "execution_count": 6,
      "outputs": []
    },
    {
      "cell_type": "code",
      "source": [
        "# normalização e padronização\n",
        "from sklearn.preprocessing import StandardScaler\n",
        "from sklearn.preprocessing import MinMaxScaler"
      ],
      "metadata": {
        "id": "vwcUdUsbhGFr"
      },
      "execution_count": 7,
      "outputs": []
    },
    {
      "cell_type": "code",
      "source": [
        "# bibliotecas modelos\n",
        "from sklearn.linear_model import LinearRegression # algoritmo Regressão Linear\n",
        "from sklearn.linear_model import Ridge # algoritmo Regularização Ridge\n",
        "from sklearn.neighbors import KNeighborsRegressor # algoritmo KNN\n",
        "from sklearn.tree import DecisionTreeRegressor # algoritmo Árvore de Regressão\n",
        "from sklearn.ensemble import BaggingRegressor, GradientBoostingRegressor # ensembles tipo bagging e gradient boosting"
      ],
      "metadata": {
        "id": "GQ-e_kHtprzQ"
      },
      "execution_count": 8,
      "outputs": []
    },
    {
      "cell_type": "code",
      "source": [
        "# otimização de hiperparâmetros (GridSearch)\n",
        "from sklearn.model_selection import GridSearchCV"
      ],
      "metadata": {
        "id": "yDMxBraXDLBW"
      },
      "execution_count": 9,
      "outputs": []
    },
    {
      "cell_type": "code",
      "source": [
        "# salvar o modelo\n",
        "!pip install joblib\n",
        "import joblib"
      ],
      "metadata": {
        "colab": {
          "base_uri": "https://localhost:8080/"
        },
        "id": "LDdOjSnAJexW",
        "outputId": "e9d5e3e6-7fdd-4f52-f524-c3388f10f609"
      },
      "execution_count": 12,
      "outputs": [
        {
          "output_type": "stream",
          "name": "stdout",
          "text": [
            "Requirement already satisfied: joblib in /usr/local/lib/python3.10/dist-packages (1.3.1)\n"
          ]
        }
      ]
    },
    {
      "cell_type": "markdown",
      "source": [
        "## Load do dataset:"
      ],
      "metadata": {
        "id": "geNMP_rbc2od"
      }
    },
    {
      "cell_type": "code",
      "source": [
        "# Traz o arquivo do google drive para uma pasta local do notebook\n",
        "\n",
        "file_id = \"1J9graB1znI40eB_58haxlN9gwNCeJFaS\"\n",
        "url = f\"https://drive.google.com/uc?id={file_id}\"\n",
        "\n",
        "folder_path = \"./dataset\"\n",
        "os.makedirs(folder_path, exist_ok=True)\n",
        "\n",
        "output = \"dataset/airbnb_raw.csv\"\n",
        "gdown.download(url, output)"
      ],
      "metadata": {
        "colab": {
          "base_uri": "https://localhost:8080/",
          "height": 109
        },
        "id": "uFBqa0_DerqY",
        "outputId": "38b12320-8f50-414e-9494-3b33daaf9f83"
      },
      "execution_count": 13,
      "outputs": [
        {
          "output_type": "stream",
          "name": "stderr",
          "text": [
            "Downloading...\n",
            "From: https://drive.google.com/uc?id=1J9graB1znI40eB_58haxlN9gwNCeJFaS\n",
            "To: /content/dataset/airbnb_raw.csv\n",
            "100%|██████████| 112M/112M [00:02<00:00, 53.8MB/s] \n"
          ]
        },
        {
          "output_type": "execute_result",
          "data": {
            "text/plain": [
              "'dataset/airbnb_raw.csv'"
            ],
            "application/vnd.google.colaboratory.intrinsic+json": {
              "type": "string"
            }
          },
          "metadata": {},
          "execution_count": 13
        }
      ]
    },
    {
      "cell_type": "code",
      "source": [
        "# leitura do csv\n",
        "\n",
        "def load_raw_data() -> pd.DataFrame:\n",
        "  return pd.read_csv('/content/dataset/airbnb_raw.csv')\n",
        "\n",
        "dataset = load_raw_data()\n",
        "\n",
        "dataset.head()"
      ],
      "metadata": {
        "colab": {
          "base_uri": "https://localhost:8080/",
          "height": 752
        },
        "id": "QDvYLPXK7eLb",
        "outputId": "c22146c0-8039-4efb-fe07-d4610d96a283"
      },
      "execution_count": 14,
      "outputs": [
        {
          "output_type": "stream",
          "name": "stderr",
          "text": [
            "<ipython-input-14-336357dd107b>:4: DtypeWarning: Columns (61,62,94) have mixed types. Specify dtype option on import or set low_memory=False.\n",
            "  return pd.read_csv('/content/dataset/airbnb_raw.csv')\n"
          ]
        },
        {
          "output_type": "execute_result",
          "data": {
            "text/plain": [
              "      id                         listing_url       scrape_id last_scraped  \\\n",
              "0  17878  https://www.airbnb.com/rooms/17878  20191122092441   2019-11-22   \n",
              "1  25026  https://www.airbnb.com/rooms/25026  20191122092441   2019-11-22   \n",
              "2  31560  https://www.airbnb.com/rooms/31560  20191122092441   2019-11-22   \n",
              "3  35636  https://www.airbnb.com/rooms/35636  20191122092441   2019-11-22   \n",
              "4  35764  https://www.airbnb.com/rooms/35764  20191122092441   2019-11-22   \n",
              "\n",
              "                                             name  \\\n",
              "0               Very Nice 2Br - Copacabana - WiFi   \n",
              "1       Beautiful Modern Decorated Studio in Copa   \n",
              "2                NICE & COZY 1BDR - IPANEMA BEACH   \n",
              "3                Cosy flat close to Ipanema beach   \n",
              "4  COPACABANA SEA BREEZE  -  RIO - 20 X Superhost   \n",
              "\n",
              "                                             summary  \\\n",
              "0  Pls note that special rates apply for Carnival...   \n",
              "1  Our apartment is a little gem, everyone loves ...   \n",
              "2  This nice and clean 1 bedroom apartment is loc...   \n",
              "3  This cosy apartment  is just a few steps away ...   \n",
              "4  Our newly renovated studio is located in the b...   \n",
              "\n",
              "                                               space  \\\n",
              "0  - large balcony which looks out on pedestrian ...   \n",
              "1  This newly renovated studio (last renovations ...   \n",
              "2  This nice and clean 1 bedroom apartment is loc...   \n",
              "3  The location is extremely convenient, safe and...   \n",
              "4  FEEL LIKE YOUR HOME LIVING AS \"CARIOCA\" LOCAL ...   \n",
              "\n",
              "                                         description experiences_offered  \\\n",
              "0  Pls note that special rates apply for Carnival...                none   \n",
              "1  Our apartment is a little gem, everyone loves ...                none   \n",
              "2  This nice and clean 1 bedroom apartment is loc...                none   \n",
              "3  This cosy apartment  is just a few steps away ...                none   \n",
              "4  Our newly renovated studio is located in the b...                none   \n",
              "\n",
              "                               neighborhood_overview  ... instant_bookable  \\\n",
              "0  This is the best spot in Rio. Everything happe...  ...                t   \n",
              "1  Copacabana is a lively neighborhood and the ap...  ...                f   \n",
              "2  Die Nachbarschaft von Ipanema ist super lebend...  ...                t   \n",
              "3  The  apartment street is very quiet and safe ....  ...                f   \n",
              "4  Our guests will experience living with a local...  ...                f   \n",
              "\n",
              "  is_business_travel_ready          cancellation_policy  \\\n",
              "0                        f  strict_14_with_grace_period   \n",
              "1                        f  strict_14_with_grace_period   \n",
              "2                        f  strict_14_with_grace_period   \n",
              "3                        f  strict_14_with_grace_period   \n",
              "4                        f  strict_14_with_grace_period   \n",
              "\n",
              "  require_guest_profile_picture require_guest_phone_verification  \\\n",
              "0                             f                                f   \n",
              "1                             t                                t   \n",
              "2                             f                                f   \n",
              "3                             t                                t   \n",
              "4                             f                                t   \n",
              "\n",
              "   calculated_host_listings_count  \\\n",
              "0                               1   \n",
              "1                               3   \n",
              "2                               1   \n",
              "3                               1   \n",
              "4                               1   \n",
              "\n",
              "   calculated_host_listings_count_entire_homes  \\\n",
              "0                                            1   \n",
              "1                                            3   \n",
              "2                                            1   \n",
              "3                                            1   \n",
              "4                                            1   \n",
              "\n",
              "  calculated_host_listings_count_private_rooms  \\\n",
              "0                                            0   \n",
              "1                                            0   \n",
              "2                                            0   \n",
              "3                                            0   \n",
              "4                                            0   \n",
              "\n",
              "   calculated_host_listings_count_shared_rooms  reviews_per_month  \n",
              "0                                            0               2.13  \n",
              "1                                            0               2.04  \n",
              "2                                            0               2.38  \n",
              "3                                            0               2.28  \n",
              "4                                            0               2.84  \n",
              "\n",
              "[5 rows x 106 columns]"
            ],
            "text/html": [
              "\n",
              "\n",
              "  <div id=\"df-ede25086-c350-4a8a-8a74-8e45b408f212\">\n",
              "    <div class=\"colab-df-container\">\n",
              "      <div>\n",
              "<style scoped>\n",
              "    .dataframe tbody tr th:only-of-type {\n",
              "        vertical-align: middle;\n",
              "    }\n",
              "\n",
              "    .dataframe tbody tr th {\n",
              "        vertical-align: top;\n",
              "    }\n",
              "\n",
              "    .dataframe thead th {\n",
              "        text-align: right;\n",
              "    }\n",
              "</style>\n",
              "<table border=\"1\" class=\"dataframe\">\n",
              "  <thead>\n",
              "    <tr style=\"text-align: right;\">\n",
              "      <th></th>\n",
              "      <th>id</th>\n",
              "      <th>listing_url</th>\n",
              "      <th>scrape_id</th>\n",
              "      <th>last_scraped</th>\n",
              "      <th>name</th>\n",
              "      <th>summary</th>\n",
              "      <th>space</th>\n",
              "      <th>description</th>\n",
              "      <th>experiences_offered</th>\n",
              "      <th>neighborhood_overview</th>\n",
              "      <th>...</th>\n",
              "      <th>instant_bookable</th>\n",
              "      <th>is_business_travel_ready</th>\n",
              "      <th>cancellation_policy</th>\n",
              "      <th>require_guest_profile_picture</th>\n",
              "      <th>require_guest_phone_verification</th>\n",
              "      <th>calculated_host_listings_count</th>\n",
              "      <th>calculated_host_listings_count_entire_homes</th>\n",
              "      <th>calculated_host_listings_count_private_rooms</th>\n",
              "      <th>calculated_host_listings_count_shared_rooms</th>\n",
              "      <th>reviews_per_month</th>\n",
              "    </tr>\n",
              "  </thead>\n",
              "  <tbody>\n",
              "    <tr>\n",
              "      <th>0</th>\n",
              "      <td>17878</td>\n",
              "      <td>https://www.airbnb.com/rooms/17878</td>\n",
              "      <td>20191122092441</td>\n",
              "      <td>2019-11-22</td>\n",
              "      <td>Very Nice 2Br - Copacabana - WiFi</td>\n",
              "      <td>Pls note that special rates apply for Carnival...</td>\n",
              "      <td>- large balcony which looks out on pedestrian ...</td>\n",
              "      <td>Pls note that special rates apply for Carnival...</td>\n",
              "      <td>none</td>\n",
              "      <td>This is the best spot in Rio. Everything happe...</td>\n",
              "      <td>...</td>\n",
              "      <td>t</td>\n",
              "      <td>f</td>\n",
              "      <td>strict_14_with_grace_period</td>\n",
              "      <td>f</td>\n",
              "      <td>f</td>\n",
              "      <td>1</td>\n",
              "      <td>1</td>\n",
              "      <td>0</td>\n",
              "      <td>0</td>\n",
              "      <td>2.13</td>\n",
              "    </tr>\n",
              "    <tr>\n",
              "      <th>1</th>\n",
              "      <td>25026</td>\n",
              "      <td>https://www.airbnb.com/rooms/25026</td>\n",
              "      <td>20191122092441</td>\n",
              "      <td>2019-11-22</td>\n",
              "      <td>Beautiful Modern Decorated Studio in Copa</td>\n",
              "      <td>Our apartment is a little gem, everyone loves ...</td>\n",
              "      <td>This newly renovated studio (last renovations ...</td>\n",
              "      <td>Our apartment is a little gem, everyone loves ...</td>\n",
              "      <td>none</td>\n",
              "      <td>Copacabana is a lively neighborhood and the ap...</td>\n",
              "      <td>...</td>\n",
              "      <td>f</td>\n",
              "      <td>f</td>\n",
              "      <td>strict_14_with_grace_period</td>\n",
              "      <td>t</td>\n",
              "      <td>t</td>\n",
              "      <td>3</td>\n",
              "      <td>3</td>\n",
              "      <td>0</td>\n",
              "      <td>0</td>\n",
              "      <td>2.04</td>\n",
              "    </tr>\n",
              "    <tr>\n",
              "      <th>2</th>\n",
              "      <td>31560</td>\n",
              "      <td>https://www.airbnb.com/rooms/31560</td>\n",
              "      <td>20191122092441</td>\n",
              "      <td>2019-11-22</td>\n",
              "      <td>NICE &amp; COZY 1BDR - IPANEMA BEACH</td>\n",
              "      <td>This nice and clean 1 bedroom apartment is loc...</td>\n",
              "      <td>This nice and clean 1 bedroom apartment is loc...</td>\n",
              "      <td>This nice and clean 1 bedroom apartment is loc...</td>\n",
              "      <td>none</td>\n",
              "      <td>Die Nachbarschaft von Ipanema ist super lebend...</td>\n",
              "      <td>...</td>\n",
              "      <td>t</td>\n",
              "      <td>f</td>\n",
              "      <td>strict_14_with_grace_period</td>\n",
              "      <td>f</td>\n",
              "      <td>f</td>\n",
              "      <td>1</td>\n",
              "      <td>1</td>\n",
              "      <td>0</td>\n",
              "      <td>0</td>\n",
              "      <td>2.38</td>\n",
              "    </tr>\n",
              "    <tr>\n",
              "      <th>3</th>\n",
              "      <td>35636</td>\n",
              "      <td>https://www.airbnb.com/rooms/35636</td>\n",
              "      <td>20191122092441</td>\n",
              "      <td>2019-11-22</td>\n",
              "      <td>Cosy flat close to Ipanema beach</td>\n",
              "      <td>This cosy apartment  is just a few steps away ...</td>\n",
              "      <td>The location is extremely convenient, safe and...</td>\n",
              "      <td>This cosy apartment  is just a few steps away ...</td>\n",
              "      <td>none</td>\n",
              "      <td>The  apartment street is very quiet and safe ....</td>\n",
              "      <td>...</td>\n",
              "      <td>f</td>\n",
              "      <td>f</td>\n",
              "      <td>strict_14_with_grace_period</td>\n",
              "      <td>t</td>\n",
              "      <td>t</td>\n",
              "      <td>1</td>\n",
              "      <td>1</td>\n",
              "      <td>0</td>\n",
              "      <td>0</td>\n",
              "      <td>2.28</td>\n",
              "    </tr>\n",
              "    <tr>\n",
              "      <th>4</th>\n",
              "      <td>35764</td>\n",
              "      <td>https://www.airbnb.com/rooms/35764</td>\n",
              "      <td>20191122092441</td>\n",
              "      <td>2019-11-22</td>\n",
              "      <td>COPACABANA SEA BREEZE  -  RIO - 20 X Superhost</td>\n",
              "      <td>Our newly renovated studio is located in the b...</td>\n",
              "      <td>FEEL LIKE YOUR HOME LIVING AS \"CARIOCA\" LOCAL ...</td>\n",
              "      <td>Our newly renovated studio is located in the b...</td>\n",
              "      <td>none</td>\n",
              "      <td>Our guests will experience living with a local...</td>\n",
              "      <td>...</td>\n",
              "      <td>f</td>\n",
              "      <td>f</td>\n",
              "      <td>strict_14_with_grace_period</td>\n",
              "      <td>f</td>\n",
              "      <td>t</td>\n",
              "      <td>1</td>\n",
              "      <td>1</td>\n",
              "      <td>0</td>\n",
              "      <td>0</td>\n",
              "      <td>2.84</td>\n",
              "    </tr>\n",
              "  </tbody>\n",
              "</table>\n",
              "<p>5 rows × 106 columns</p>\n",
              "</div>\n",
              "      <button class=\"colab-df-convert\" onclick=\"convertToInteractive('df-ede25086-c350-4a8a-8a74-8e45b408f212')\"\n",
              "              title=\"Convert this dataframe to an interactive table.\"\n",
              "              style=\"display:none;\">\n",
              "\n",
              "  <svg xmlns=\"http://www.w3.org/2000/svg\" height=\"24px\"viewBox=\"0 0 24 24\"\n",
              "       width=\"24px\">\n",
              "    <path d=\"M0 0h24v24H0V0z\" fill=\"none\"/>\n",
              "    <path d=\"M18.56 5.44l.94 2.06.94-2.06 2.06-.94-2.06-.94-.94-2.06-.94 2.06-2.06.94zm-11 1L8.5 8.5l.94-2.06 2.06-.94-2.06-.94L8.5 2.5l-.94 2.06-2.06.94zm10 10l.94 2.06.94-2.06 2.06-.94-2.06-.94-.94-2.06-.94 2.06-2.06.94z\"/><path d=\"M17.41 7.96l-1.37-1.37c-.4-.4-.92-.59-1.43-.59-.52 0-1.04.2-1.43.59L10.3 9.45l-7.72 7.72c-.78.78-.78 2.05 0 2.83L4 21.41c.39.39.9.59 1.41.59.51 0 1.02-.2 1.41-.59l7.78-7.78 2.81-2.81c.8-.78.8-2.07 0-2.86zM5.41 20L4 18.59l7.72-7.72 1.47 1.35L5.41 20z\"/>\n",
              "  </svg>\n",
              "      </button>\n",
              "\n",
              "\n",
              "\n",
              "    <div id=\"df-3f201f84-a16a-43d6-a48b-4fc00003172f\">\n",
              "      <button class=\"colab-df-quickchart\" onclick=\"quickchart('df-3f201f84-a16a-43d6-a48b-4fc00003172f')\"\n",
              "              title=\"Suggest charts.\"\n",
              "              style=\"display:none;\">\n",
              "\n",
              "<svg xmlns=\"http://www.w3.org/2000/svg\" height=\"24px\"viewBox=\"0 0 24 24\"\n",
              "     width=\"24px\">\n",
              "    <g>\n",
              "        <path d=\"M19 3H5c-1.1 0-2 .9-2 2v14c0 1.1.9 2 2 2h14c1.1 0 2-.9 2-2V5c0-1.1-.9-2-2-2zM9 17H7v-7h2v7zm4 0h-2V7h2v10zm4 0h-2v-4h2v4z\"/>\n",
              "    </g>\n",
              "</svg>\n",
              "      </button>\n",
              "    </div>\n",
              "\n",
              "<style>\n",
              "  .colab-df-quickchart {\n",
              "    background-color: #E8F0FE;\n",
              "    border: none;\n",
              "    border-radius: 50%;\n",
              "    cursor: pointer;\n",
              "    display: none;\n",
              "    fill: #1967D2;\n",
              "    height: 32px;\n",
              "    padding: 0 0 0 0;\n",
              "    width: 32px;\n",
              "  }\n",
              "\n",
              "  .colab-df-quickchart:hover {\n",
              "    background-color: #E2EBFA;\n",
              "    box-shadow: 0px 1px 2px rgba(60, 64, 67, 0.3), 0px 1px 3px 1px rgba(60, 64, 67, 0.15);\n",
              "    fill: #174EA6;\n",
              "  }\n",
              "\n",
              "  [theme=dark] .colab-df-quickchart {\n",
              "    background-color: #3B4455;\n",
              "    fill: #D2E3FC;\n",
              "  }\n",
              "\n",
              "  [theme=dark] .colab-df-quickchart:hover {\n",
              "    background-color: #434B5C;\n",
              "    box-shadow: 0px 1px 3px 1px rgba(0, 0, 0, 0.15);\n",
              "    filter: drop-shadow(0px 1px 2px rgba(0, 0, 0, 0.3));\n",
              "    fill: #FFFFFF;\n",
              "  }\n",
              "</style>\n",
              "\n",
              "    <script>\n",
              "      async function quickchart(key) {\n",
              "        const containerElement = document.querySelector('#' + key);\n",
              "        const charts = await google.colab.kernel.invokeFunction(\n",
              "            'suggestCharts', [key], {});\n",
              "      }\n",
              "    </script>\n",
              "\n",
              "      <script>\n",
              "\n",
              "function displayQuickchartButton(domScope) {\n",
              "  let quickchartButtonEl =\n",
              "    domScope.querySelector('#df-3f201f84-a16a-43d6-a48b-4fc00003172f button.colab-df-quickchart');\n",
              "  quickchartButtonEl.style.display =\n",
              "    google.colab.kernel.accessAllowed ? 'block' : 'none';\n",
              "}\n",
              "\n",
              "        displayQuickchartButton(document);\n",
              "      </script>\n",
              "      <style>\n",
              "    .colab-df-container {\n",
              "      display:flex;\n",
              "      flex-wrap:wrap;\n",
              "      gap: 12px;\n",
              "    }\n",
              "\n",
              "    .colab-df-convert {\n",
              "      background-color: #E8F0FE;\n",
              "      border: none;\n",
              "      border-radius: 50%;\n",
              "      cursor: pointer;\n",
              "      display: none;\n",
              "      fill: #1967D2;\n",
              "      height: 32px;\n",
              "      padding: 0 0 0 0;\n",
              "      width: 32px;\n",
              "    }\n",
              "\n",
              "    .colab-df-convert:hover {\n",
              "      background-color: #E2EBFA;\n",
              "      box-shadow: 0px 1px 2px rgba(60, 64, 67, 0.3), 0px 1px 3px 1px rgba(60, 64, 67, 0.15);\n",
              "      fill: #174EA6;\n",
              "    }\n",
              "\n",
              "    [theme=dark] .colab-df-convert {\n",
              "      background-color: #3B4455;\n",
              "      fill: #D2E3FC;\n",
              "    }\n",
              "\n",
              "    [theme=dark] .colab-df-convert:hover {\n",
              "      background-color: #434B5C;\n",
              "      box-shadow: 0px 1px 3px 1px rgba(0, 0, 0, 0.15);\n",
              "      filter: drop-shadow(0px 1px 2px rgba(0, 0, 0, 0.3));\n",
              "      fill: #FFFFFF;\n",
              "    }\n",
              "  </style>\n",
              "\n",
              "      <script>\n",
              "        const buttonEl =\n",
              "          document.querySelector('#df-ede25086-c350-4a8a-8a74-8e45b408f212 button.colab-df-convert');\n",
              "        buttonEl.style.display =\n",
              "          google.colab.kernel.accessAllowed ? 'block' : 'none';\n",
              "\n",
              "        async function convertToInteractive(key) {\n",
              "          const element = document.querySelector('#df-ede25086-c350-4a8a-8a74-8e45b408f212');\n",
              "          const dataTable =\n",
              "            await google.colab.kernel.invokeFunction('convertToInteractive',\n",
              "                                                     [key], {});\n",
              "          if (!dataTable) return;\n",
              "\n",
              "          const docLinkHtml = 'Like what you see? Visit the ' +\n",
              "            '<a target=\"_blank\" href=https://colab.research.google.com/notebooks/data_table.ipynb>data table notebook</a>'\n",
              "            + ' to learn more about interactive tables.';\n",
              "          element.innerHTML = '';\n",
              "          dataTable['output_type'] = 'display_data';\n",
              "          await google.colab.output.renderOutput(dataTable, element);\n",
              "          const docLink = document.createElement('div');\n",
              "          docLink.innerHTML = docLinkHtml;\n",
              "          element.appendChild(docLink);\n",
              "        }\n",
              "      </script>\n",
              "    </div>\n",
              "  </div>\n"
            ]
          },
          "metadata": {},
          "execution_count": 14
        }
      ]
    },
    {
      "cell_type": "markdown",
      "source": [
        "## Pré-processamento dos dados:\n",
        "\n",
        "Nessa etapa é feita a preparação do dataset, considerando soluções como a transformação de variáveis categóricas, uma pré-seleção de features e tratamento de \"missing data\""
      ],
      "metadata": {
        "id": "VJgcv-Odb8YR"
      }
    },
    {
      "cell_type": "markdown",
      "source": [
        "### Exclusão de dados não relevantes ao problema\n",
        "\n",
        "\n",
        "\n"
      ],
      "metadata": {
        "id": "Kx54doRsOLGU"
      }
    },
    {
      "cell_type": "markdown",
      "source": [
        "O dataset possui informações que não contribuem para o problema em questão. Um exemplo disso é a url do anúncio ou a \"scrape_id\", que não possuem qualquer influência ou relação com o preço das acomodações, mas contituem apenas um identificador. Com isso, o que se propôs aqui foi uma pré-seleção das colunas (features) que de fato dizem respeito a características das acomodações.\n",
        "Para esta parte do exercício, foram também excluídas as colunas com textos de descrição, o que será melhor abordado na parte B do MVP.\n",
        "\n",
        "Por questões de interesse pessoal na investigação, também preferiu-se restrigir a um modelo que trate apenas das tipologias de Apartamento, Condomínio e Loft - que possuem maiores semelhanças entre si e que correspondem a mais de 80% do dataset original."
      ],
      "metadata": {
        "id": "bVWhqGawidVJ"
      }
    },
    {
      "cell_type": "code",
      "execution_count": 15,
      "metadata": {
        "id": "EbUumcLdbH4r"
      },
      "outputs": [],
      "source": [
        "def selection_base_dataset(df: pd.DataFrame) -> pd.DataFrame:\n",
        "\n",
        "  # copia do dataset\n",
        "  df_reduced = df.copy()\n",
        "\n",
        "  # limitando dataset às tipologias de acomodação de interesse\n",
        "  properties = ['Apartment', 'Condominium', 'Loft']\n",
        "\n",
        "  df_reduced = df_reduced.loc[(df_reduced['property_type'].isin(properties))]\n",
        "\n",
        "  # pré-seleção de features do dataset:\n",
        "  df_reduced = df_reduced[[\n",
        "      'host_is_superhost',\n",
        "      'host_identity_verified',\n",
        "      'city',\n",
        "      'neighbourhood',\n",
        "      'room_type',\n",
        "      'accommodates',\n",
        "      'bathrooms',\n",
        "      'bedrooms',\n",
        "      'beds',\n",
        "      'price',\n",
        "      'cleaning_fee',\n",
        "      'number_of_reviews',\n",
        "      'review_scores_rating',\n",
        "      'review_scores_accuracy',\n",
        "      'review_scores_cleanliness',\n",
        "      'review_scores_checkin',\n",
        "      'review_scores_communication',\n",
        "      'review_scores_location',\n",
        "      'review_scores_value',\n",
        "      'instant_bookable'\n",
        "      ]].copy()\n",
        "\n",
        "  return df_reduced\n"
      ]
    },
    {
      "cell_type": "code",
      "source": [
        "dataset_selection = selection_base_dataset(dataset)"
      ],
      "metadata": {
        "id": "Q4BYs1DAJMJH"
      },
      "execution_count": 16,
      "outputs": []
    },
    {
      "cell_type": "markdown",
      "source": [
        "### Tratamento de dados faltantes\n",
        "\n"
      ],
      "metadata": {
        "id": "HrIH4gUeOBqr"
      }
    },
    {
      "cell_type": "markdown",
      "source": [
        "O dataset possui diversos dados faltantes, que se introduzidos no modelo sem tratamento irão resultar em erros. Nesse caso, optou-se por duas formas de lidar com esses dados, dependendo da feature em que isto ocorre. Foram as seguintes situações:\n",
        "\n",
        "- **substituição de vazios por 0(zero):** no caso da feature \"cleanning_fee\", não ter essa entrada significa que o valor da taxa de limpeza da acomodação é zero. Por isso, no caso dos dados faltantes nessa coluna, houve o preenchimento com o valor numérico zero.\n",
        "\n",
        "- **remoção de linhas com dados faltantes:** nas demais situações em que haviam dados faltantes, houve um entendimento de que qualquer tratamento que introduzisse novos valores poderia trazer algum tipo de viés ao modelo que não seria desejável. Com isso optou-se pela remoção dessas linhas, mesmo que isso resultasse em um dataset menor\n",
        "\n",
        "Obs: No caso das features relacionadas a \"review_score\", poderia ser aplicado um valor, fora do intervalo original, de forma que indicasse ao modelo que aquela entrada não possui avaliação. Essa forma de tratamento acabaria trazendo para o modelo também o peso de não ter avaliações para a predição de preços. Porém esse método não seria aplicável a alguns modelos como Regressão Linear, KNN ou SVN."
      ],
      "metadata": {
        "id": "fVDa_J0zioFJ"
      }
    },
    {
      "cell_type": "code",
      "source": [
        "# contagem de entradas faltantes por feature\n",
        "# para avaliação da perda de dados do dataset\n",
        "\n",
        "dataset_selection.isna().sum()"
      ],
      "metadata": {
        "colab": {
          "base_uri": "https://localhost:8080/"
        },
        "id": "eWEbwsIeJJKE",
        "outputId": "9c3459b7-d54b-4ec4-8c97-005ecacdcf52"
      },
      "execution_count": 17,
      "outputs": [
        {
          "output_type": "execute_result",
          "data": {
            "text/plain": [
              "host_is_superhost                 17\n",
              "host_identity_verified            17\n",
              "city                              69\n",
              "neighbourhood                   1007\n",
              "room_type                          0\n",
              "accommodates                       0\n",
              "bathrooms                         41\n",
              "bedrooms                          33\n",
              "beds                              40\n",
              "price                              0\n",
              "cleaning_fee                    8670\n",
              "number_of_reviews                  0\n",
              "review_scores_rating           12507\n",
              "review_scores_accuracy         12522\n",
              "review_scores_cleanliness      12519\n",
              "review_scores_checkin          12524\n",
              "review_scores_communication    12519\n",
              "review_scores_location         12521\n",
              "review_scores_value            12520\n",
              "instant_bookable                   0\n",
              "dtype: int64"
            ]
          },
          "metadata": {},
          "execution_count": 17
        }
      ]
    },
    {
      "cell_type": "code",
      "source": [
        "# tratamento de dados faltantes\n",
        "\n",
        "def clean_base_dataset(df: pd.DataFrame) -> pd.DataFrame:\n",
        "\n",
        "  # copia do dataset\n",
        "  df_temp = df.copy()\n",
        "\n",
        "  # substituição por zero\n",
        "  df_temp['cleaning_fee'] = df_temp['cleaning_fee'].fillna('$0.00')\n",
        "\n",
        "  # drop das entradas com valores faltantes\n",
        "  return df_temp.dropna()"
      ],
      "metadata": {
        "id": "aHk0P2QAHeZj"
      },
      "execution_count": 18,
      "outputs": []
    },
    {
      "cell_type": "code",
      "source": [
        "clean_dataset = clean_base_dataset(dataset_selection)"
      ],
      "metadata": {
        "id": "51qbkM-Dh2iz"
      },
      "execution_count": 19,
      "outputs": []
    },
    {
      "cell_type": "markdown",
      "source": [
        "### Conversão de valor moeda em entrada numérica"
      ],
      "metadata": {
        "id": "hoymxrBHvNBr"
      }
    },
    {
      "cell_type": "markdown",
      "source": [
        "As variáveis que indicam preços no dataset estão notadas com um $ e são originalmente do tipo \"object\", embora contenham um valor numérico. Para que o modelo possa ler essas variáveis, é necessário então convertê-las."
      ],
      "metadata": {
        "id": "MCVyP3ffvZqh"
      }
    },
    {
      "cell_type": "code",
      "source": [
        "def money_base_dataset(df: pd.DataFrame) -> pd.DataFrame:\n",
        "\n",
        "  # copia do dataset\n",
        "  df_temp = df.copy()\n",
        "\n",
        "  # transformação das variáveis\n",
        "  variables = ['price','cleaning_fee']\n",
        "\n",
        "  for var in variables:\n",
        "    df_temp[var] = df_temp[var].str.extract(r'(\\d+\\.\\d+)', expand=False) # extraindo $ (somente número)\n",
        "    df_temp[var] = pd.to_numeric(df_temp[var]) # convertendo para variável numérica\n",
        "\n",
        "  return df_temp\n"
      ],
      "metadata": {
        "id": "oQ5pMrvVwg5j"
      },
      "execution_count": 20,
      "outputs": []
    },
    {
      "cell_type": "code",
      "source": [
        "num_money_dataset = money_base_dataset(clean_dataset)"
      ],
      "metadata": {
        "id": "zz-tkSs50dhP"
      },
      "execution_count": 21,
      "outputs": []
    },
    {
      "cell_type": "markdown",
      "source": [
        "### Tratamento de variáveis categóricas"
      ],
      "metadata": {
        "id": "YtY6lCD6je1U"
      }
    },
    {
      "cell_type": "markdown",
      "source": [
        "Neste dataset algumas variáveis são de natureza categórica, com entradas do tipo \"string\", que não são bem lidas pelos modelos de machine learning. Por isso, essas variáveis foram transformadas, realizando uma espécie de encoding da informação.\n",
        "\n",
        "No caso das variáveis do tipo boleana (verdadeiro ou falso), realizou-se a conversão dos valores para 0 (falso) e 1 (verdadeiro).\n",
        "\n",
        "\n",
        "Obs1: No caso da variável \"room_type\", embora houvessem 3 categorias diferentes no dataset, optou-se por restringi-la às duas principais encontradas, por ser também de pouco interesse pessoal a predição de preços para acomodações compartilhadas(\"Shared room\"). Para esse caso, foram removidas as entradas correspondentes.\n",
        "\n",
        "Obs2: Apesar de também ser uma variável categórica, as informações relacionadas à localização foram tratadas de forma diferenciada, como será demonstrado na próxima seção."
      ],
      "metadata": {
        "id": "pTUW9Qjcjscx"
      }
    },
    {
      "cell_type": "code",
      "source": [
        "# conversão das variaveis categoricas em entradas 1 ou 0\n",
        "\n",
        "def numerical_base_dataset(df: pd.DataFrame) -> pd.DataFrame:\n",
        "\n",
        "  # copia do dataset\n",
        "  df_temp = df.copy()\n",
        "\n",
        "  # remoção das acomodações tipo \"shared room\"\n",
        "  df_temp = df_temp.loc[~(df_temp['room_type'].isin(['Shared room']))]\n",
        "\n",
        "  # encoding numérico\n",
        "\n",
        "  new_cols = [{\n",
        "      'source': 'room_type',\n",
        "      'target': 'entire_home',\n",
        "      'truthy_value': 'Entire home/apt'\n",
        "      }, {\n",
        "      'source': 'host_is_superhost',\n",
        "      'target': 'superhost',\n",
        "      'truthy_value': 't'\n",
        "      }, {\n",
        "      'source': 'host_identity_verified',\n",
        "      'target': 'verified_host',\n",
        "      'truthy_value': 't'\n",
        "      }, {\n",
        "      'source': 'instant_bookable',\n",
        "      'target': 'instant_booking',\n",
        "      'truthy_value': 't'\n",
        "  }]\n",
        "\n",
        "  for col in new_cols:\n",
        "    df_temp[col['target']] = np.where(df_temp[col['source']] == col['truthy_value'], 1, 0)\n",
        "\n",
        "    df_temp = df_temp.drop(columns=[col['source']]) # removendo as colunas originais (categoricas)\n",
        "\n",
        "\n",
        "  return df_temp"
      ],
      "metadata": {
        "id": "EgrAv7eUnBjn"
      },
      "execution_count": 22,
      "outputs": []
    },
    {
      "cell_type": "code",
      "source": [
        "numerical_dataset = numerical_base_dataset(num_money_dataset)"
      ],
      "metadata": {
        "id": "ZsdKyGzAozWN"
      },
      "execution_count": 23,
      "outputs": []
    },
    {
      "cell_type": "code",
      "source": [
        "print(numerical_dataset.dtypes)"
      ],
      "metadata": {
        "colab": {
          "base_uri": "https://localhost:8080/"
        },
        "id": "5hv94jlRtzV8",
        "outputId": "a84bfdff-0abb-4eab-824b-405d11c263c3"
      },
      "execution_count": 24,
      "outputs": [
        {
          "output_type": "stream",
          "name": "stdout",
          "text": [
            "city                            object\n",
            "neighbourhood                   object\n",
            "accommodates                     int64\n",
            "bathrooms                      float64\n",
            "bedrooms                       float64\n",
            "beds                           float64\n",
            "price                          float64\n",
            "cleaning_fee                   float64\n",
            "number_of_reviews                int64\n",
            "review_scores_rating           float64\n",
            "review_scores_accuracy         float64\n",
            "review_scores_cleanliness      float64\n",
            "review_scores_checkin          float64\n",
            "review_scores_communication    float64\n",
            "review_scores_location         float64\n",
            "review_scores_value            float64\n",
            "entire_home                      int64\n",
            "superhost                        int64\n",
            "verified_host                    int64\n",
            "instant_booking                  int64\n",
            "dtype: object\n"
          ]
        }
      ]
    },
    {
      "cell_type": "markdown",
      "source": [
        "### Tratamento dos dados de localização\n",
        "\n"
      ],
      "metadata": {
        "id": "a0ape60NiG6R"
      }
    },
    {
      "cell_type": "markdown",
      "source": [
        "A localização de uma acomodação é um fator que costuma ser bastante relevante na determinação do preço, merecendo atenção especial na preparação do dataset."
      ],
      "metadata": {
        "id": "4UwWfEYEi6wG"
      }
    },
    {
      "cell_type": "markdown",
      "source": [
        "#### 1) Restringindo ao municipio do Rio de Janeiro"
      ],
      "metadata": {
        "id": "W-Rdb29jg7eE"
      }
    },
    {
      "cell_type": "markdown",
      "source": [
        "Primeiramente, decidiu-se restringir o dataset apenas aos dados do Airbnb correspondentes ao município do Rio de Janeiro, removendo então as entradas referentes a outras cidades."
      ],
      "metadata": {
        "id": "bFveksZRlopB"
      }
    },
    {
      "cell_type": "code",
      "source": [
        "# criação de .csv para identificação manual\n",
        "# das entradas de cidade a serem excluídas\n",
        "\n",
        "city = pd.DataFrame((numerical_dataset['city']).value_counts())\n",
        "\n",
        "new_folder = './dataset/aux'\n",
        "os.makedirs(new_folder, exist_ok=True)\n",
        "\n",
        "city.to_csv('/content/dataset/aux/city.csv',index=True)"
      ],
      "metadata": {
        "id": "-WX4AdR6KRBV"
      },
      "execution_count": 25,
      "outputs": []
    },
    {
      "cell_type": "code",
      "source": [
        "# remoção das entradas relativas a outros municípios\n",
        "\n",
        "def rj_base_dataset(df: pd.DataFrame) -> pd.DataFrame:\n",
        "\n",
        "  citys_drop = [\n",
        "      'Рио-де-Жанейро',\n",
        "      'São Francisco',\n",
        "      'Esplanada do Cruzeiro'\n",
        "  ]\n",
        "\n",
        "  df_rj = (\n",
        "      df[~df['city'].isin(citys_drop)]\n",
        "        .drop(columns=['city'])\n",
        "        .copy()\n",
        "    )\n",
        "\n",
        "  return df_rj"
      ],
      "metadata": {
        "id": "nndhYbIGiF4k"
      },
      "execution_count": 26,
      "outputs": []
    },
    {
      "cell_type": "code",
      "source": [
        "dataset_rj = rj_base_dataset(numerical_dataset)"
      ],
      "metadata": {
        "id": "g69YGjlLTxrr"
      },
      "execution_count": 27,
      "outputs": []
    },
    {
      "cell_type": "markdown",
      "source": [
        "#### 2) Atribuindo features numéricas aos bairros"
      ],
      "metadata": {
        "id": "FDG4IRfmhXQT"
      }
    },
    {
      "cell_type": "markdown",
      "source": [
        "Para a variável bairro (\"neighbourhood\") optamos por convertê-la em três features do tipo boleana (1 ou 0), de forma que se pudesse utilizar atributos dos bairros que, por conhecimento próprio seriam importantes para a previsão de preço no Airbnb. Seguindo os seguintes passos:\n",
        "  - definição dos atributos: (i)zona sul - por ser a área turística mais relevante da cidade; (ii) praia - por ser uma das atividades de maior interesse na cidade; (iii) favela - por ser um fator significativo para desvalorizar imóveis\n",
        "\n",
        "  - rotulação manual dos bairros do dataset segundo as categorias estabelecidas\n",
        "\n",
        "  - atribuição dos novos rótulos das variáveis ao dataset a ser utilizado pelo modelo, seguida da exclusão da variável bairro."
      ],
      "metadata": {
        "id": "rsYnCeASlz2q"
      }
    },
    {
      "cell_type": "code",
      "source": [
        "# criação de .csv para atribuição manual\n",
        "# das features de bairro\n",
        "\n",
        "neighbourhood = pd.DataFrame((dataset_rj['neighbourhood']).value_counts())\n",
        "\n",
        "neighbourhood.to_csv('/content/dataset/aux/neighbourhood.csv',index=True)"
      ],
      "metadata": {
        "id": "vJnolB7MAjNv"
      },
      "execution_count": 28,
      "outputs": []
    },
    {
      "cell_type": "code",
      "source": [
        "# upload do csv com novas features de bairro\n",
        "\n",
        "file_id = '1NchYvbXji-H1Iay0OtWlrIuEojQMTyq4'\n",
        "url = f'https://drive.google.com/uc?id={file_id}'\n",
        "\n",
        "output = 'dataset/aux/neighbourhood_features.csv'\n",
        "gdown.download(url, output)\n",
        "\n",
        "#leitura do csv\n",
        "neighbourhood_fts = pd.read_csv('/content/dataset/aux/neighbourhood_features.csv')"
      ],
      "metadata": {
        "id": "1eFysMcJA7kV",
        "colab": {
          "base_uri": "https://localhost:8080/"
        },
        "outputId": "6c6c3bcc-9ddb-492a-c98b-48c89fcd9b08"
      },
      "execution_count": 29,
      "outputs": [
        {
          "output_type": "stream",
          "name": "stderr",
          "text": [
            "Downloading...\n",
            "From: https://drive.google.com/uc?id=1NchYvbXji-H1Iay0OtWlrIuEojQMTyq4\n",
            "To: /content/dataset/aux/neighbourhood_features.csv\n",
            "100%|██████████| 1.42k/1.42k [00:00<00:00, 4.08MB/s]\n"
          ]
        }
      ]
    },
    {
      "cell_type": "code",
      "source": [
        "# inserção das novas features no dataset principal\n",
        "\n",
        "def neighbourhood_dataset(df: pd.DataFrame) -> pd.DataFrame:\n",
        "\n",
        "  df_rj =  pd.merge(df, neighbourhood_fts, left_on='neighbourhood', right_on='neighbourhood')\n",
        "\n",
        "  return df_rj.drop(columns=['neighbourhood']) # exclusão da coluna original de bairro"
      ],
      "metadata": {
        "id": "GkW3bcttY2-J"
      },
      "execution_count": 30,
      "outputs": []
    },
    {
      "cell_type": "code",
      "source": [
        "airbnb_rj = neighbourhood_dataset(dataset_rj)"
      ],
      "metadata": {
        "id": "bLW1spo6eiNa"
      },
      "execution_count": 31,
      "outputs": []
    },
    {
      "cell_type": "markdown",
      "source": [
        "Obs: No caso em questão, a utilização desse método foi facilitada pelo conhecimento prévio de características da cidade e de sua relação com o que se costuma buscar numa acomodação de Airbnb.\n",
        "\n",
        "  - Uma outra solução possível seria a utilização de ferramentas como o OneHotEncoding para a transformação da coluna bairro em diversas colunas numéricas com entradas 1 ou 0.\n",
        "\n",
        "  - Ou poderia-se também agrupar os bairros pela posição geográfica por exemplo (zona sul, norte, oeste, etc.) e proceder depois ao encoding para transformação em dado numérico, porém com menos colunas que o método anterior."
      ],
      "metadata": {
        "id": "HruenKYa_mAf"
      }
    },
    {
      "cell_type": "markdown",
      "source": [
        "## Dataset Final"
      ],
      "metadata": {
        "id": "qAtWWHesht4E"
      }
    },
    {
      "cell_type": "code",
      "source": [
        "airbnb_rj.head()"
      ],
      "metadata": {
        "colab": {
          "base_uri": "https://localhost:8080/",
          "height": 0
        },
        "id": "2Dux9UnRewUS",
        "outputId": "c150d7ee-7ac9-4f45-bcc4-2b73a46e7a04"
      },
      "execution_count": 32,
      "outputs": [
        {
          "output_type": "execute_result",
          "data": {
            "text/plain": [
              "   accommodates  bathrooms  bedrooms  beds  price  cleaning_fee  \\\n",
              "0             5        1.0       2.0   2.0  332.0         378.0   \n",
              "1             2        1.0       1.0   2.0  160.0         250.0   \n",
              "2             2        1.0       1.0   1.0  130.0         140.0   \n",
              "3             1        1.0       1.0   1.0   80.0           0.0   \n",
              "4            10        3.5       4.0   4.0  848.0         199.0   \n",
              "\n",
              "   number_of_reviews  review_scores_rating  review_scores_accuracy  \\\n",
              "0                243                  93.0                     9.0   \n",
              "1                235                  94.0                     9.0   \n",
              "2                316                  98.0                    10.0   \n",
              "3                 42                  98.0                    10.0   \n",
              "4                  3                  80.0                     9.0   \n",
              "\n",
              "   review_scores_cleanliness  ...  review_scores_communication  \\\n",
              "0                       10.0  ...                         10.0   \n",
              "1                       10.0  ...                         10.0   \n",
              "2                       10.0  ...                         10.0   \n",
              "3                       10.0  ...                         10.0   \n",
              "4                        8.0  ...                          9.0   \n",
              "\n",
              "   review_scores_location  review_scores_value  entire_home  superhost  \\\n",
              "0                    10.0                  9.0            1          1   \n",
              "1                    10.0                  9.0            1          0   \n",
              "2                    10.0                 10.0            1          1   \n",
              "3                    10.0                 10.0            0          1   \n",
              "4                     9.0                  6.0            1          0   \n",
              "\n",
              "   verified_host  instant_booking  zona sul  beach  favela  \n",
              "0              1                1         1      1       0  \n",
              "1              1                0         1      1       0  \n",
              "2              1                0         1      1       0  \n",
              "3              0                1         1      1       0  \n",
              "4              1                1         1      1       0  \n",
              "\n",
              "[5 rows x 21 columns]"
            ],
            "text/html": [
              "\n",
              "\n",
              "  <div id=\"df-d587acf6-6f23-4117-9ea8-162de1a94d6c\">\n",
              "    <div class=\"colab-df-container\">\n",
              "      <div>\n",
              "<style scoped>\n",
              "    .dataframe tbody tr th:only-of-type {\n",
              "        vertical-align: middle;\n",
              "    }\n",
              "\n",
              "    .dataframe tbody tr th {\n",
              "        vertical-align: top;\n",
              "    }\n",
              "\n",
              "    .dataframe thead th {\n",
              "        text-align: right;\n",
              "    }\n",
              "</style>\n",
              "<table border=\"1\" class=\"dataframe\">\n",
              "  <thead>\n",
              "    <tr style=\"text-align: right;\">\n",
              "      <th></th>\n",
              "      <th>accommodates</th>\n",
              "      <th>bathrooms</th>\n",
              "      <th>bedrooms</th>\n",
              "      <th>beds</th>\n",
              "      <th>price</th>\n",
              "      <th>cleaning_fee</th>\n",
              "      <th>number_of_reviews</th>\n",
              "      <th>review_scores_rating</th>\n",
              "      <th>review_scores_accuracy</th>\n",
              "      <th>review_scores_cleanliness</th>\n",
              "      <th>...</th>\n",
              "      <th>review_scores_communication</th>\n",
              "      <th>review_scores_location</th>\n",
              "      <th>review_scores_value</th>\n",
              "      <th>entire_home</th>\n",
              "      <th>superhost</th>\n",
              "      <th>verified_host</th>\n",
              "      <th>instant_booking</th>\n",
              "      <th>zona sul</th>\n",
              "      <th>beach</th>\n",
              "      <th>favela</th>\n",
              "    </tr>\n",
              "  </thead>\n",
              "  <tbody>\n",
              "    <tr>\n",
              "      <th>0</th>\n",
              "      <td>5</td>\n",
              "      <td>1.0</td>\n",
              "      <td>2.0</td>\n",
              "      <td>2.0</td>\n",
              "      <td>332.0</td>\n",
              "      <td>378.0</td>\n",
              "      <td>243</td>\n",
              "      <td>93.0</td>\n",
              "      <td>9.0</td>\n",
              "      <td>10.0</td>\n",
              "      <td>...</td>\n",
              "      <td>10.0</td>\n",
              "      <td>10.0</td>\n",
              "      <td>9.0</td>\n",
              "      <td>1</td>\n",
              "      <td>1</td>\n",
              "      <td>1</td>\n",
              "      <td>1</td>\n",
              "      <td>1</td>\n",
              "      <td>1</td>\n",
              "      <td>0</td>\n",
              "    </tr>\n",
              "    <tr>\n",
              "      <th>1</th>\n",
              "      <td>2</td>\n",
              "      <td>1.0</td>\n",
              "      <td>1.0</td>\n",
              "      <td>2.0</td>\n",
              "      <td>160.0</td>\n",
              "      <td>250.0</td>\n",
              "      <td>235</td>\n",
              "      <td>94.0</td>\n",
              "      <td>9.0</td>\n",
              "      <td>10.0</td>\n",
              "      <td>...</td>\n",
              "      <td>10.0</td>\n",
              "      <td>10.0</td>\n",
              "      <td>9.0</td>\n",
              "      <td>1</td>\n",
              "      <td>0</td>\n",
              "      <td>1</td>\n",
              "      <td>0</td>\n",
              "      <td>1</td>\n",
              "      <td>1</td>\n",
              "      <td>0</td>\n",
              "    </tr>\n",
              "    <tr>\n",
              "      <th>2</th>\n",
              "      <td>2</td>\n",
              "      <td>1.0</td>\n",
              "      <td>1.0</td>\n",
              "      <td>1.0</td>\n",
              "      <td>130.0</td>\n",
              "      <td>140.0</td>\n",
              "      <td>316</td>\n",
              "      <td>98.0</td>\n",
              "      <td>10.0</td>\n",
              "      <td>10.0</td>\n",
              "      <td>...</td>\n",
              "      <td>10.0</td>\n",
              "      <td>10.0</td>\n",
              "      <td>10.0</td>\n",
              "      <td>1</td>\n",
              "      <td>1</td>\n",
              "      <td>1</td>\n",
              "      <td>0</td>\n",
              "      <td>1</td>\n",
              "      <td>1</td>\n",
              "      <td>0</td>\n",
              "    </tr>\n",
              "    <tr>\n",
              "      <th>3</th>\n",
              "      <td>1</td>\n",
              "      <td>1.0</td>\n",
              "      <td>1.0</td>\n",
              "      <td>1.0</td>\n",
              "      <td>80.0</td>\n",
              "      <td>0.0</td>\n",
              "      <td>42</td>\n",
              "      <td>98.0</td>\n",
              "      <td>10.0</td>\n",
              "      <td>10.0</td>\n",
              "      <td>...</td>\n",
              "      <td>10.0</td>\n",
              "      <td>10.0</td>\n",
              "      <td>10.0</td>\n",
              "      <td>0</td>\n",
              "      <td>1</td>\n",
              "      <td>0</td>\n",
              "      <td>1</td>\n",
              "      <td>1</td>\n",
              "      <td>1</td>\n",
              "      <td>0</td>\n",
              "    </tr>\n",
              "    <tr>\n",
              "      <th>4</th>\n",
              "      <td>10</td>\n",
              "      <td>3.5</td>\n",
              "      <td>4.0</td>\n",
              "      <td>4.0</td>\n",
              "      <td>848.0</td>\n",
              "      <td>199.0</td>\n",
              "      <td>3</td>\n",
              "      <td>80.0</td>\n",
              "      <td>9.0</td>\n",
              "      <td>8.0</td>\n",
              "      <td>...</td>\n",
              "      <td>9.0</td>\n",
              "      <td>9.0</td>\n",
              "      <td>6.0</td>\n",
              "      <td>1</td>\n",
              "      <td>0</td>\n",
              "      <td>1</td>\n",
              "      <td>1</td>\n",
              "      <td>1</td>\n",
              "      <td>1</td>\n",
              "      <td>0</td>\n",
              "    </tr>\n",
              "  </tbody>\n",
              "</table>\n",
              "<p>5 rows × 21 columns</p>\n",
              "</div>\n",
              "      <button class=\"colab-df-convert\" onclick=\"convertToInteractive('df-d587acf6-6f23-4117-9ea8-162de1a94d6c')\"\n",
              "              title=\"Convert this dataframe to an interactive table.\"\n",
              "              style=\"display:none;\">\n",
              "\n",
              "  <svg xmlns=\"http://www.w3.org/2000/svg\" height=\"24px\"viewBox=\"0 0 24 24\"\n",
              "       width=\"24px\">\n",
              "    <path d=\"M0 0h24v24H0V0z\" fill=\"none\"/>\n",
              "    <path d=\"M18.56 5.44l.94 2.06.94-2.06 2.06-.94-2.06-.94-.94-2.06-.94 2.06-2.06.94zm-11 1L8.5 8.5l.94-2.06 2.06-.94-2.06-.94L8.5 2.5l-.94 2.06-2.06.94zm10 10l.94 2.06.94-2.06 2.06-.94-2.06-.94-.94-2.06-.94 2.06-2.06.94z\"/><path d=\"M17.41 7.96l-1.37-1.37c-.4-.4-.92-.59-1.43-.59-.52 0-1.04.2-1.43.59L10.3 9.45l-7.72 7.72c-.78.78-.78 2.05 0 2.83L4 21.41c.39.39.9.59 1.41.59.51 0 1.02-.2 1.41-.59l7.78-7.78 2.81-2.81c.8-.78.8-2.07 0-2.86zM5.41 20L4 18.59l7.72-7.72 1.47 1.35L5.41 20z\"/>\n",
              "  </svg>\n",
              "      </button>\n",
              "\n",
              "\n",
              "\n",
              "    <div id=\"df-1c38f6fc-e066-4fdf-8e9b-a07c82bbce06\">\n",
              "      <button class=\"colab-df-quickchart\" onclick=\"quickchart('df-1c38f6fc-e066-4fdf-8e9b-a07c82bbce06')\"\n",
              "              title=\"Suggest charts.\"\n",
              "              style=\"display:none;\">\n",
              "\n",
              "<svg xmlns=\"http://www.w3.org/2000/svg\" height=\"24px\"viewBox=\"0 0 24 24\"\n",
              "     width=\"24px\">\n",
              "    <g>\n",
              "        <path d=\"M19 3H5c-1.1 0-2 .9-2 2v14c0 1.1.9 2 2 2h14c1.1 0 2-.9 2-2V5c0-1.1-.9-2-2-2zM9 17H7v-7h2v7zm4 0h-2V7h2v10zm4 0h-2v-4h2v4z\"/>\n",
              "    </g>\n",
              "</svg>\n",
              "      </button>\n",
              "    </div>\n",
              "\n",
              "<style>\n",
              "  .colab-df-quickchart {\n",
              "    background-color: #E8F0FE;\n",
              "    border: none;\n",
              "    border-radius: 50%;\n",
              "    cursor: pointer;\n",
              "    display: none;\n",
              "    fill: #1967D2;\n",
              "    height: 32px;\n",
              "    padding: 0 0 0 0;\n",
              "    width: 32px;\n",
              "  }\n",
              "\n",
              "  .colab-df-quickchart:hover {\n",
              "    background-color: #E2EBFA;\n",
              "    box-shadow: 0px 1px 2px rgba(60, 64, 67, 0.3), 0px 1px 3px 1px rgba(60, 64, 67, 0.15);\n",
              "    fill: #174EA6;\n",
              "  }\n",
              "\n",
              "  [theme=dark] .colab-df-quickchart {\n",
              "    background-color: #3B4455;\n",
              "    fill: #D2E3FC;\n",
              "  }\n",
              "\n",
              "  [theme=dark] .colab-df-quickchart:hover {\n",
              "    background-color: #434B5C;\n",
              "    box-shadow: 0px 1px 3px 1px rgba(0, 0, 0, 0.15);\n",
              "    filter: drop-shadow(0px 1px 2px rgba(0, 0, 0, 0.3));\n",
              "    fill: #FFFFFF;\n",
              "  }\n",
              "</style>\n",
              "\n",
              "    <script>\n",
              "      async function quickchart(key) {\n",
              "        const containerElement = document.querySelector('#' + key);\n",
              "        const charts = await google.colab.kernel.invokeFunction(\n",
              "            'suggestCharts', [key], {});\n",
              "      }\n",
              "    </script>\n",
              "\n",
              "      <script>\n",
              "\n",
              "function displayQuickchartButton(domScope) {\n",
              "  let quickchartButtonEl =\n",
              "    domScope.querySelector('#df-1c38f6fc-e066-4fdf-8e9b-a07c82bbce06 button.colab-df-quickchart');\n",
              "  quickchartButtonEl.style.display =\n",
              "    google.colab.kernel.accessAllowed ? 'block' : 'none';\n",
              "}\n",
              "\n",
              "        displayQuickchartButton(document);\n",
              "      </script>\n",
              "      <style>\n",
              "    .colab-df-container {\n",
              "      display:flex;\n",
              "      flex-wrap:wrap;\n",
              "      gap: 12px;\n",
              "    }\n",
              "\n",
              "    .colab-df-convert {\n",
              "      background-color: #E8F0FE;\n",
              "      border: none;\n",
              "      border-radius: 50%;\n",
              "      cursor: pointer;\n",
              "      display: none;\n",
              "      fill: #1967D2;\n",
              "      height: 32px;\n",
              "      padding: 0 0 0 0;\n",
              "      width: 32px;\n",
              "    }\n",
              "\n",
              "    .colab-df-convert:hover {\n",
              "      background-color: #E2EBFA;\n",
              "      box-shadow: 0px 1px 2px rgba(60, 64, 67, 0.3), 0px 1px 3px 1px rgba(60, 64, 67, 0.15);\n",
              "      fill: #174EA6;\n",
              "    }\n",
              "\n",
              "    [theme=dark] .colab-df-convert {\n",
              "      background-color: #3B4455;\n",
              "      fill: #D2E3FC;\n",
              "    }\n",
              "\n",
              "    [theme=dark] .colab-df-convert:hover {\n",
              "      background-color: #434B5C;\n",
              "      box-shadow: 0px 1px 3px 1px rgba(0, 0, 0, 0.15);\n",
              "      filter: drop-shadow(0px 1px 2px rgba(0, 0, 0, 0.3));\n",
              "      fill: #FFFFFF;\n",
              "    }\n",
              "  </style>\n",
              "\n",
              "      <script>\n",
              "        const buttonEl =\n",
              "          document.querySelector('#df-d587acf6-6f23-4117-9ea8-162de1a94d6c button.colab-df-convert');\n",
              "        buttonEl.style.display =\n",
              "          google.colab.kernel.accessAllowed ? 'block' : 'none';\n",
              "\n",
              "        async function convertToInteractive(key) {\n",
              "          const element = document.querySelector('#df-d587acf6-6f23-4117-9ea8-162de1a94d6c');\n",
              "          const dataTable =\n",
              "            await google.colab.kernel.invokeFunction('convertToInteractive',\n",
              "                                                     [key], {});\n",
              "          if (!dataTable) return;\n",
              "\n",
              "          const docLinkHtml = 'Like what you see? Visit the ' +\n",
              "            '<a target=\"_blank\" href=https://colab.research.google.com/notebooks/data_table.ipynb>data table notebook</a>'\n",
              "            + ' to learn more about interactive tables.';\n",
              "          element.innerHTML = '';\n",
              "          dataTable['output_type'] = 'display_data';\n",
              "          await google.colab.output.renderOutput(dataTable, element);\n",
              "          const docLink = document.createElement('div');\n",
              "          docLink.innerHTML = docLinkHtml;\n",
              "          element.appendChild(docLink);\n",
              "        }\n",
              "      </script>\n",
              "    </div>\n",
              "  </div>\n"
            ]
          },
          "metadata": {},
          "execution_count": 32
        }
      ]
    },
    {
      "cell_type": "code",
      "source": [
        "print(airbnb_rj.dtypes)\n",
        "\n",
        "len(airbnb_rj)"
      ],
      "metadata": {
        "colab": {
          "base_uri": "https://localhost:8080/"
        },
        "id": "XYZ73wUUf7SJ",
        "outputId": "571a090f-a864-4a65-ff0d-a5d959190b33"
      },
      "execution_count": 33,
      "outputs": [
        {
          "output_type": "stream",
          "name": "stdout",
          "text": [
            "accommodates                     int64\n",
            "bathrooms                      float64\n",
            "bedrooms                       float64\n",
            "beds                           float64\n",
            "price                          float64\n",
            "cleaning_fee                   float64\n",
            "number_of_reviews                int64\n",
            "review_scores_rating           float64\n",
            "review_scores_accuracy         float64\n",
            "review_scores_cleanliness      float64\n",
            "review_scores_checkin          float64\n",
            "review_scores_communication    float64\n",
            "review_scores_location         float64\n",
            "review_scores_value            float64\n",
            "entire_home                      int64\n",
            "superhost                        int64\n",
            "verified_host                    int64\n",
            "instant_booking                  int64\n",
            "zona sul                         int64\n",
            "beach                            int64\n",
            "favela                           int64\n",
            "dtype: object\n"
          ]
        },
        {
          "output_type": "execute_result",
          "data": {
            "text/plain": [
              "15193"
            ]
          },
          "metadata": {},
          "execution_count": 33
        }
      ]
    },
    {
      "cell_type": "code",
      "source": [
        "# gerando cvs do dataset final tratado\n",
        "\n",
        "airbnb_rj.to_csv('/content/dataset/airbnb_data_rj.csv',index=True)"
      ],
      "metadata": {
        "id": "77uSe2bbgEsJ"
      },
      "execution_count": 34,
      "outputs": []
    },
    {
      "cell_type": "markdown",
      "source": [
        "## Preparação para treinamento"
      ],
      "metadata": {
        "id": "HCm0R0ORnBFF"
      }
    },
    {
      "cell_type": "markdown",
      "source": [
        "### Separação dataset de teste e validação cruzada"
      ],
      "metadata": {
        "id": "mbY2rBqKMol_"
      }
    },
    {
      "cell_type": "code",
      "source": [
        "# Separação datasets de atributos e de classe (target)\n",
        "\n",
        "dataset_X = airbnb_rj.drop(columns=['price']) # atributos\n",
        "dataset_y = airbnb_rj['price'] # classe (target)\n",
        "\n",
        "seed = 21 # fixa semente\n",
        "\n",
        "X = dataset_X.values\n",
        "y = dataset_y.values\n",
        "\n",
        "X_train, X_test, y_train, y_test = train_test_split(X, y, test_size=0.20, random_state=seed) # faz a divisão"
      ],
      "metadata": {
        "id": "ypctnroQ3LAK"
      },
      "execution_count": 35,
      "outputs": []
    },
    {
      "cell_type": "code",
      "source": [
        "# Criando os folds para a validação cruzada\n",
        "\n",
        "scoring = 'neg_mean_squared_error'\n",
        "n_folds = 10\n",
        "kfold = KFold(n_splits=n_folds, shuffle=True, random_state=seed)"
      ],
      "metadata": {
        "id": "EfwaKLgx36wL"
      },
      "execution_count": 36,
      "outputs": []
    },
    {
      "cell_type": "markdown",
      "source": [
        "## Modelagem\n",
        "\n",
        "A modelagem foi realizada em 3 etapas principais, as quais trazem experimentações para a escolha e aprimoramento do melhor modelo."
      ],
      "metadata": {
        "id": "DvInV5mTNw7d"
      }
    },
    {
      "cell_type": "markdown",
      "source": [
        "### 1) Modelos pré-selecionados"
      ],
      "metadata": {
        "id": "Ta3OiLh6HvAj"
      }
    },
    {
      "cell_type": "markdown",
      "source": [
        "Uma vez que se trata de um problema de regressão, foram escolhidos algoritmos que a priori se adequassem a esse tipo de problema. Entre os algoritmos de regressão, buscou-se escolher aqueles que apresentassem diferenças mais significativas entre as formas de processamento, para então avaliar qual seria mais adequado ao problema.\n",
        "\n",
        "Temos então:\n",
        "\n",
        "- **Regressão Linear**:  forma mais simples de endereçar problemas de regressão\n",
        "- **Regressão Linear com regularização Rigde**: algoritmo simples mas aprimorado por um método de regularização (L2)\n",
        "- **KNN:** algoritmo que utiliza relação de distâncias entre vetores\n",
        "- **Árvore de Regressão**: algoritmo do tipo árvore, com abordagem por nós de decisão\n",
        "- **2 Ensembles**:\n",
        "    - ***Bagging Regressor:*** utilizando algoritmos do tipo árvore para a composição do ensemble, e a técnica de bootstraping de um algoritmo para o outro.\n",
        "\n",
        "    - ***Gradient Boosting***: também utiliza árvore de regressão na estrutura, porém ajustando o modelo base a partir dos erros do modelo anterior (boosting)"
      ],
      "metadata": {
        "id": "yHIZayiYGVlV"
      }
    },
    {
      "cell_type": "markdown",
      "source": [
        "#### Ajuste inicial de hiperparâmetros"
      ],
      "metadata": {
        "id": "UMEkHAkzPlPU"
      }
    },
    {
      "cell_type": "markdown",
      "source": [
        "Alguns dos modelos tiveram um ajuste inicial nos hiperparâmetros, uma vez que sua configuração default não costuma apresentar bons desempenhos ainda que o modelo possa ser adequado para o problema.\n",
        "A definição desses parâmetros foi feita a partir de pequenas experimentações, por tentativa e erro, até chegarmos a uma comparação com resultados menos discrepantes entre os modelos utilizados."
      ],
      "metadata": {
        "id": "FZkL_KCjQHyr"
      }
    },
    {
      "cell_type": "code",
      "source": [
        "# Modelagem\n",
        "\n",
        "# Definindo uma seed global para esta célula de código\n",
        "np.random.seed(21)\n",
        "\n",
        "# Listas para armazenar os modelos, os resultados e os nomes dos modelos\n",
        "models = []\n",
        "results = []\n",
        "names = []\n",
        "\n",
        "# Preparando os modelos e adicionando-os em uma lista\n",
        "models.append(('LR', LinearRegression()))\n",
        "models.append(('Ridge', Ridge(alpha=500)))\n",
        "models.append(('KNN', KNeighborsRegressor(n_neighbors=8)))\n",
        "models.append(('CART', DecisionTreeRegressor(min_samples_leaf=10)))\n",
        "models.append(('BR', BaggingRegressor(n_estimators=100, max_features=10)))\n",
        "models.append(('GB', GradientBoostingRegressor()))\n",
        "\n",
        "\n",
        "\n",
        "# Avaliando um modelo por vez\n",
        "for name, model in models:\n",
        "  cv_results = cross_val_score(model, X_train, y_train, cv=kfold, scoring=scoring)\n",
        "  results.append(abs(cv_results))\n",
        "  names.append(name)\n",
        "  # imprime MSE, desvio padrão do MSE e RMSE dos 10 resultados da validação cruzada\n",
        "  msg = '%s: MSE %0.2f (%0.2f) - RMSE %0.2f' % (name, abs(cv_results.mean()), cv_results.std(), np.sqrt(abs(cv_results.mean())))\n",
        "  print(msg)\n",
        "\n",
        "\n",
        "# Boxplot de comparação dos modelos\n",
        "fig = plt.figure()\n",
        "fig.suptitle('Comparação do MSE dos Modelos')\n",
        "ax = fig.add_subplot(111)\n",
        "plt.boxplot(results)\n",
        "ax.set_xticklabels(names)\n",
        "plt.show()"
      ],
      "metadata": {
        "colab": {
          "base_uri": "https://localhost:8080/",
          "height": 0
        },
        "id": "8rbPNAX5NmOB",
        "outputId": "6c47743d-b943-4a85-a7cf-6b746869cf4a"
      },
      "execution_count": 37,
      "outputs": [
        {
          "output_type": "stream",
          "name": "stdout",
          "text": [
            "LR: MSE 28536.78 (1552.05) - RMSE 168.93\n",
            "Ridge: MSE 28618.04 (1536.33) - RMSE 169.17\n",
            "KNN: MSE 31269.85 (1990.75) - RMSE 176.83\n",
            "CART: MSE 30840.28 (1777.13) - RMSE 175.61\n",
            "BR: MSE 26716.13 (1389.09) - RMSE 163.45\n",
            "GB: MSE 25951.26 (1541.53) - RMSE 161.09\n"
          ]
        },
        {
          "output_type": "display_data",
          "data": {
            "text/plain": [
              "<Figure size 640x480 with 1 Axes>"
            ],
            "image/png": "[encoded data removed]"
          },
          "metadata": {}
        }
      ]
    },
    {
      "cell_type": "markdown",
      "source": [
        "#### Conclusões da etapa"
      ],
      "metadata": {
        "id": "y_3RGhMAWPMu"
      }
    },
    {
      "cell_type": "markdown",
      "source": [
        "Vemos por meio da métrica MSE (mean squared error) que os ensembles apresentam melhores resultados que os algaritmos de Machine Learning clássico usados isoladamente.\n",
        "\n",
        "Embora a regressão linear tenha apresentado resultados melhores que algoritmos como KNN e Árvore de Regressão, é possível que com um melhor ajuste de hiperparâmetros essa condição se modifique.\n",
        "\n",
        "Considerando que há diversas variáveis do tipo categóricas no dataset (modificadas para 1 ou 0), era também já esperado que algoritmos do tipo 'árvore' apresentassem melhor desempenho que algoritmos baseados em distância, o que se viu confirmado. Essa foi também a razão de não terem sido experimentados algoritmos como SVM, pois tomaria um tempo de processamento com piores resultados.\n",
        "\n",
        "Entre os ensembles, vemos que o Gradient Boosting desempenhou melhor que o algoritmo de Bagging, entendendo que o aprendizado a partir dos erros promove um real incremento da capacidade de acerto do modelo."
      ],
      "metadata": {
        "id": "9O_1xV3mSGVa"
      }
    },
    {
      "cell_type": "markdown",
      "source": [
        "### 2) Modelagem com dados transformados"
      ],
      "metadata": {
        "id": "s9bfHy9WWixw"
      }
    },
    {
      "cell_type": "markdown",
      "source": [
        "#### Feature Selection"
      ],
      "metadata": {
        "id": "K5XRUE0djtEc"
      }
    },
    {
      "cell_type": "markdown",
      "source": [
        "Analisando um pouco mais a fundo o dataset, podemos observar que algumas variáveis possuem maior influência sobre o preço das acomodações que outras. Ao identificarmos quais são elas pode contribuir de duas formas para o problema com o qual estamos lidando:\n",
        "- *redução de variáveis* (feature selection): Ao reduzirmos o número de variáveis do dataset àquelas de maior influência sobre o preço, teremos a possibilidade de reduzir o ruído de alguns modelos tornando seu aprendizado tanto mais rápido quanto mais preciso.\n",
        "\n",
        "- *informação de interesse:* Ao sabermos quais variáveis possuem maior influência sobre o preço da acomodação, pessoas interessadas em ter um imóvel no Airbnb no Rio de Janeiro terão uma informação com potencial para extrair maiores lucros."
      ],
      "metadata": {
        "id": "w1vrDlRUK1WF"
      }
    },
    {
      "cell_type": "markdown",
      "source": [
        "##### **Método Univariado**"
      ],
      "metadata": {
        "id": "oKt8x7ROkWfD"
      }
    },
    {
      "cell_type": "markdown",
      "source": [
        "Uma das opções para identificar as variáveis de maior influência é o algoritmo SelectKBest. Ele utiliza o método estatístico da correlação de Pearson para a sugestão de uma seleção dos atributos. Com isso, a tendência será eliminar atributos que demonstrem menor correlação com a variável target."
      ],
      "metadata": {
        "id": "ome7drbPklp7"
      }
    },
    {
      "cell_type": "code",
      "source": [
        "# SelectKBest\n",
        "\n",
        "# fixando seed para a célula\n",
        "np.random.seed(seed)\n",
        "\n",
        "# Seleção de atributos com SelectKBest\n",
        "best_var = SelectKBest(score_func=r_regression, k=10)\n",
        "\n",
        "# Executa a função de pontuação em (X, y) e obtém os atributos selecionados\n",
        "fit = best_var.fit(X_train, y_train)\n",
        "\n",
        "\n",
        "# Exibe os atributos orginais\n",
        "print(\"\\nAtributos Originais:\", dataset_X.columns)\n",
        "\n",
        "\n",
        "# Exibe as pontuações de cada atributos e as 10 escolhidas\n",
        "np.set_printoptions(precision=3) # 3 casas decimais\n",
        "print(\"\\nScores dos Atributos Originais:\", fit.scores_)\n",
        "print(\"\\nAtributos Selecionados:\", best_var.get_feature_names_out(input_features=dataset_X.columns))"
      ],
      "metadata": {
        "colab": {
          "base_uri": "https://localhost:8080/"
        },
        "id": "6wvNeN7Qjp4c",
        "outputId": "c6747f96-2249-49a7-eb80-df885bb7f8d2"
      },
      "execution_count": 43,
      "outputs": [
        {
          "output_type": "stream",
          "name": "stdout",
          "text": [
            "\n",
            "Atributos Originais: Index(['accommodates', 'bathrooms', 'bedrooms', 'beds', 'cleaning_fee',\n",
            "       'number_of_reviews', 'review_scores_rating', 'review_scores_accuracy',\n",
            "       'review_scores_cleanliness', 'review_scores_checkin',\n",
            "       'review_scores_communication', 'review_scores_location',\n",
            "       'review_scores_value', 'entire_home', 'superhost', 'verified_host',\n",
            "       'instant_booking', 'zona sul', 'beach', 'favela'],\n",
            "      dtype='object')\n",
            "\n",
            "Scores dos Atributos Originais: [ 0.442  0.422  0.479  0.355  0.297 -0.138  0.024  0.001  0.004  0.004\n",
            " -0.002  0.009 -0.08   0.314 -0.083  0.043 -0.08   0.033  0.206 -0.015]\n",
            "\n",
            "Atributos Selecionados: ['accommodates' 'bathrooms' 'bedrooms' 'beds' 'cleaning_fee'\n",
            " 'review_scores_rating' 'entire_home' 'verified_host' 'zona sul' 'beach']\n"
          ]
        }
      ]
    },
    {
      "cell_type": "markdown",
      "source": [
        "Também podemos fazer uma visualização dessas correlações a partir de um mapa de calor, utilizando uma matriz de correlação. Assim, poderemos também avaliar sobre variáveis co-dependentes, o que pode ser também um importante critério para o feature selection."
      ],
      "metadata": {
        "id": "KI8Tlo7YIzDv"
      }
    },
    {
      "cell_type": "code",
      "source": [
        "# Heatmap do dataset de treino\n",
        "\n",
        "# fixando seed para a célula\n",
        "np.random.seed(seed)\n",
        "\n",
        "# convertendo dataset de treino em dataframe\n",
        "train_dataset = pd.DataFrame(X_train)\n",
        "train_dataset.columns = dataset_X.columns\n",
        "train_dataset['price'] = y_train\n",
        "\n",
        "# heatmap de correlação entre as variáveis\n",
        "corrmatrix = train_dataset.corr(numeric_only=True)\n",
        "k = 11 # quantidade variáveis no heatmap\n",
        "columns = corrmatrix.nlargest(k, 'price').index # seleção das 10 mais correlacionadas ao preço\n",
        "coeficient = np.corrcoef(train_dataset[columns].values.T)\n",
        "sn.set(font_scale=1.25)\n",
        "sn.heatmap(coeficient, cbar=True, annot=True, square=True, fmt='.2f', annot_kws={'size': 10}, yticklabels=columns.values, xticklabels=columns.values)\n",
        "\n",
        "del corrmatrix"
      ],
      "metadata": {
        "colab": {
          "base_uri": "https://localhost:8080/",
          "height": 628
        },
        "id": "fphOyG525L9V",
        "outputId": "683bdb05-4b8d-4004-c5b7-047ad2285928"
      },
      "execution_count": 39,
      "outputs": [
        {
          "output_type": "display_data",
          "data": {
            "text/plain": [
              "<Figure size 640x480 with 2 Axes>"
            ],
            "image/png": "[encoded data removed]"
          },
          "metadata": {}
        }
      ]
    },
    {
      "cell_type": "markdown",
      "source": [
        "Nesse caso, vemos que algumas variáveis parecem ser co-dependentes, como por exemplo o número de camas e a quantidade de pessoas que o espaço acomoda, ou seja, condições diretamente relacionadas. Em casos como este, podemos escolher apenas uma das duas variáveis, reduzindo o ruído para alguns modelos."
      ],
      "metadata": {
        "id": "UOdG1ZHYKb4g"
      }
    },
    {
      "cell_type": "markdown",
      "source": [
        "##### **Método da importância de atributos**"
      ],
      "metadata": {
        "id": "_5zHZP3Aq2yK"
      }
    },
    {
      "cell_type": "markdown",
      "source": [
        "Outra forma de identificar as variáveis de maior influência é a utilização de algoritmos ensembles tipo árvore de decisão, que atribuem pesos às variáveis no processamento. Dessa forma, cada atributo recebe uma pontuação conforme seu grau de importância para a predição da variável de interesse."
      ],
      "metadata": {
        "id": "ctlRztd1KJZi"
      }
    },
    {
      "cell_type": "code",
      "source": [
        "# Importância de Atributos com ExtraTrees\n",
        "\n",
        "# fixando seed para a célula\n",
        "np.random.seed(seed)\n",
        "\n",
        "# Criação do modelo para seleção de atributos\n",
        "modelo = ExtraTreesRegressor(n_estimators=100)\n",
        "modelo.fit(X_train, y_train)\n",
        "\n",
        "# Exibe os atributos orginais\n",
        "ET_results = pd.DataFrame(columns=['features'])\n",
        "ET_results['features'] = dataset_X.columns\n",
        "ET_results['points'] = modelo.feature_importances_\n",
        "\n",
        "ET_results.sort_values(by = 'points', ascending = False).head(10) # exibe as 10 variáveis de maior pontuação"
      ],
      "metadata": {
        "colab": {
          "base_uri": "https://localhost:8080/",
          "height": 363
        },
        "id": "ZlQnX3_qrL8e",
        "outputId": "3decb54b-d4a3-4647-baf3-6d7bcb880d1f"
      },
      "execution_count": 40,
      "outputs": [
        {
          "output_type": "execute_result",
          "data": {
            "text/plain": [
              "                     features    points\n",
              "4                cleaning_fee  0.114687\n",
              "0                accommodates  0.112514\n",
              "2                    bedrooms  0.107254\n",
              "1                   bathrooms  0.103249\n",
              "5           number_of_reviews  0.093307\n",
              "13                entire_home  0.068342\n",
              "3                        beds  0.066968\n",
              "6        review_scores_rating  0.047223\n",
              "12        review_scores_value  0.044779\n",
              "8   review_scores_cleanliness  0.033348"
            ],
            "text/html": [
              "\n",
              "\n",
              "  <div id=\"df-391a3334-8148-4bd4-af78-aa2ddd6f544b\">\n",
              "    <div class=\"colab-df-container\">\n",
              "      <div>\n",
              "<style scoped>\n",
              "    .dataframe tbody tr th:only-of-type {\n",
              "        vertical-align: middle;\n",
              "    }\n",
              "\n",
              "    .dataframe tbody tr th {\n",
              "        vertical-align: top;\n",
              "    }\n",
              "\n",
              "    .dataframe thead th {\n",
              "        text-align: right;\n",
              "    }\n",
              "</style>\n",
              "<table border=\"1\" class=\"dataframe\">\n",
              "  <thead>\n",
              "    <tr style=\"text-align: right;\">\n",
              "      <th></th>\n",
              "      <th>features</th>\n",
              "      <th>points</th>\n",
              "    </tr>\n",
              "  </thead>\n",
              "  <tbody>\n",
              "    <tr>\n",
              "      <th>4</th>\n",
              "      <td>cleaning_fee</td>\n",
              "      <td>0.114687</td>\n",
              "    </tr>\n",
              "    <tr>\n",
              "      <th>0</th>\n",
              "      <td>accommodates</td>\n",
              "      <td>0.112514</td>\n",
              "    </tr>\n",
              "    <tr>\n",
              "      <th>2</th>\n",
              "      <td>bedrooms</td>\n",
              "      <td>0.107254</td>\n",
              "    </tr>\n",
              "    <tr>\n",
              "      <th>1</th>\n",
              "      <td>bathrooms</td>\n",
              "      <td>0.103249</td>\n",
              "    </tr>\n",
              "    <tr>\n",
              "      <th>5</th>\n",
              "      <td>number_of_reviews</td>\n",
              "      <td>0.093307</td>\n",
              "    </tr>\n",
              "    <tr>\n",
              "      <th>13</th>\n",
              "      <td>entire_home</td>\n",
              "      <td>0.068342</td>\n",
              "    </tr>\n",
              "    <tr>\n",
              "      <th>3</th>\n",
              "      <td>beds</td>\n",
              "      <td>0.066968</td>\n",
              "    </tr>\n",
              "    <tr>\n",
              "      <th>6</th>\n",
              "      <td>review_scores_rating</td>\n",
              "      <td>0.047223</td>\n",
              "    </tr>\n",
              "    <tr>\n",
              "      <th>12</th>\n",
              "      <td>review_scores_value</td>\n",
              "      <td>0.044779</td>\n",
              "    </tr>\n",
              "    <tr>\n",
              "      <th>8</th>\n",
              "      <td>review_scores_cleanliness</td>\n",
              "      <td>0.033348</td>\n",
              "    </tr>\n",
              "  </tbody>\n",
              "</table>\n",
              "</div>\n",
              "      <button class=\"colab-df-convert\" onclick=\"convertToInteractive('df-391a3334-8148-4bd4-af78-aa2ddd6f544b')\"\n",
              "              title=\"Convert this dataframe to an interactive table.\"\n",
              "              style=\"display:none;\">\n",
              "\n",
              "  <svg xmlns=\"http://www.w3.org/2000/svg\" height=\"24px\"viewBox=\"0 0 24 24\"\n",
              "       width=\"24px\">\n",
              "    <path d=\"M0 0h24v24H0V0z\" fill=\"none\"/>\n",
              "    <path d=\"M18.56 5.44l.94 2.06.94-2.06 2.06-.94-2.06-.94-.94-2.06-.94 2.06-2.06.94zm-11 1L8.5 8.5l.94-2.06 2.06-.94-2.06-.94L8.5 2.5l-.94 2.06-2.06.94zm10 10l.94 2.06.94-2.06 2.06-.94-2.06-.94-.94-2.06-.94 2.06-2.06.94z\"/><path d=\"M17.41 7.96l-1.37-1.37c-.4-.4-.92-.59-1.43-.59-.52 0-1.04.2-1.43.59L10.3 9.45l-7.72 7.72c-.78.78-.78 2.05 0 2.83L4 21.41c.39.39.9.59 1.41.59.51 0 1.02-.2 1.41-.59l7.78-7.78 2.81-2.81c.8-.78.8-2.07 0-2.86zM5.41 20L4 18.59l7.72-7.72 1.47 1.35L5.41 20z\"/>\n",
              "  </svg>\n",
              "      </button>\n",
              "\n",
              "\n",
              "\n",
              "    <div id=\"df-49651df6-f9c6-4987-9b3c-1269bca2a90f\">\n",
              "      <button class=\"colab-df-quickchart\" onclick=\"quickchart('df-49651df6-f9c6-4987-9b3c-1269bca2a90f')\"\n",
              "              title=\"Suggest charts.\"\n",
              "              style=\"display:none;\">\n",
              "\n",
              "<svg xmlns=\"http://www.w3.org/2000/svg\" height=\"24px\"viewBox=\"0 0 24 24\"\n",
              "     width=\"24px\">\n",
              "    <g>\n",
              "        <path d=\"M19 3H5c-1.1 0-2 .9-2 2v14c0 1.1.9 2 2 2h14c1.1 0 2-.9 2-2V5c0-1.1-.9-2-2-2zM9 17H7v-7h2v7zm4 0h-2V7h2v10zm4 0h-2v-4h2v4z\"/>\n",
              "    </g>\n",
              "</svg>\n",
              "      </button>\n",
              "    </div>\n",
              "\n",
              "<style>\n",
              "  .colab-df-quickchart {\n",
              "    background-color: #E8F0FE;\n",
              "    border: none;\n",
              "    border-radius: 50%;\n",
              "    cursor: pointer;\n",
              "    display: none;\n",
              "    fill: #1967D2;\n",
              "    height: 32px;\n",
              "    padding: 0 0 0 0;\n",
              "    width: 32px;\n",
              "  }\n",
              "\n",
              "  .colab-df-quickchart:hover {\n",
              "    background-color: #E2EBFA;\n",
              "    box-shadow: 0px 1px 2px rgba(60, 64, 67, 0.3), 0px 1px 3px 1px rgba(60, 64, 67, 0.15);\n",
              "    fill: #174EA6;\n",
              "  }\n",
              "\n",
              "  [theme=dark] .colab-df-quickchart {\n",
              "    background-color: #3B4455;\n",
              "    fill: #D2E3FC;\n",
              "  }\n",
              "\n",
              "  [theme=dark] .colab-df-quickchart:hover {\n",
              "    background-color: #434B5C;\n",
              "    box-shadow: 0px 1px 3px 1px rgba(0, 0, 0, 0.15);\n",
              "    filter: drop-shadow(0px 1px 2px rgba(0, 0, 0, 0.3));\n",
              "    fill: #FFFFFF;\n",
              "  }\n",
              "</style>\n",
              "\n",
              "    <script>\n",
              "      async function quickchart(key) {\n",
              "        const containerElement = document.querySelector('#' + key);\n",
              "        const charts = await google.colab.kernel.invokeFunction(\n",
              "            'suggestCharts', [key], {});\n",
              "      }\n",
              "    </script>\n",
              "\n",
              "      <script>\n",
              "\n",
              "function displayQuickchartButton(domScope) {\n",
              "  let quickchartButtonEl =\n",
              "    domScope.querySelector('#df-49651df6-f9c6-4987-9b3c-1269bca2a90f button.colab-df-quickchart');\n",
              "  quickchartButtonEl.style.display =\n",
              "    google.colab.kernel.accessAllowed ? 'block' : 'none';\n",
              "}\n",
              "\n",
              "        displayQuickchartButton(document);\n",
              "      </script>\n",
              "      <style>\n",
              "    .colab-df-container {\n",
              "      display:flex;\n",
              "      flex-wrap:wrap;\n",
              "      gap: 12px;\n",
              "    }\n",
              "\n",
              "    .colab-df-convert {\n",
              "      background-color: #E8F0FE;\n",
              "      border: none;\n",
              "      border-radius: 50%;\n",
              "      cursor: pointer;\n",
              "      display: none;\n",
              "      fill: #1967D2;\n",
              "      height: 32px;\n",
              "      padding: 0 0 0 0;\n",
              "      width: 32px;\n",
              "    }\n",
              "\n",
              "    .colab-df-convert:hover {\n",
              "      background-color: #E2EBFA;\n",
              "      box-shadow: 0px 1px 2px rgba(60, 64, 67, 0.3), 0px 1px 3px 1px rgba(60, 64, 67, 0.15);\n",
              "      fill: #174EA6;\n",
              "    }\n",
              "\n",
              "    [theme=dark] .colab-df-convert {\n",
              "      background-color: #3B4455;\n",
              "      fill: #D2E3FC;\n",
              "    }\n",
              "\n",
              "    [theme=dark] .colab-df-convert:hover {\n",
              "      background-color: #434B5C;\n",
              "      box-shadow: 0px 1px 3px 1px rgba(0, 0, 0, 0.15);\n",
              "      filter: drop-shadow(0px 1px 2px rgba(0, 0, 0, 0.3));\n",
              "      fill: #FFFFFF;\n",
              "    }\n",
              "  </style>\n",
              "\n",
              "      <script>\n",
              "        const buttonEl =\n",
              "          document.querySelector('#df-391a3334-8148-4bd4-af78-aa2ddd6f544b button.colab-df-convert');\n",
              "        buttonEl.style.display =\n",
              "          google.colab.kernel.accessAllowed ? 'block' : 'none';\n",
              "\n",
              "        async function convertToInteractive(key) {\n",
              "          const element = document.querySelector('#df-391a3334-8148-4bd4-af78-aa2ddd6f544b');\n",
              "          const dataTable =\n",
              "            await google.colab.kernel.invokeFunction('convertToInteractive',\n",
              "                                                     [key], {});\n",
              "          if (!dataTable) return;\n",
              "\n",
              "          const docLinkHtml = 'Like what you see? Visit the ' +\n",
              "            '<a target=\"_blank\" href=https://colab.research.google.com/notebooks/data_table.ipynb>data table notebook</a>'\n",
              "            + ' to learn more about interactive tables.';\n",
              "          element.innerHTML = '';\n",
              "          dataTable['output_type'] = 'display_data';\n",
              "          await google.colab.output.renderOutput(dataTable, element);\n",
              "          const docLink = document.createElement('div');\n",
              "          docLink.innerHTML = docLinkHtml;\n",
              "          element.appendChild(docLink);\n",
              "        }\n",
              "      </script>\n",
              "    </div>\n",
              "  </div>\n"
            ]
          },
          "metadata": {},
          "execution_count": 40
        }
      ]
    },
    {
      "cell_type": "markdown",
      "source": [
        "Vemos que resultado apresenta poucas diferenças em relação ao método que utiliza a correlação, de forma que se reduzirmos o dataset às 10 variáveis de maior peso teremos um conjunto bem semelhante.\n",
        "A principal diferença é que o Extra Trees foi mais sensível às variáveis relacionadas à plataforma do Airbnb, como a quantidade de avaliações e as notas de atribuidas por usuários. Por outro lado, deu menor peso às variáveis relacionadas à localização das acomodações."
      ],
      "metadata": {
        "id": "PGBNqYJbMS-r"
      }
    },
    {
      "cell_type": "markdown",
      "source": [
        "##### **Treinamento com Feature Selection**"
      ],
      "metadata": {
        "id": "4G4rWoB5vQAt"
      }
    },
    {
      "cell_type": "code",
      "source": [
        "# Treinamento com Feature Selection\n",
        "\n",
        "# definindo uma semente global para este bloco\n",
        "np.random.seed(seed)\n",
        "\n",
        "# Listas para armazenar os armazenar os pipelines e os resultados\n",
        "pipelines = []\n",
        "results = []\n",
        "names = []\n",
        "\n",
        "\n",
        "# Criando os elementos do pipeline\n",
        "\n",
        "# Algoritmos que serão utilizados\n",
        "lr = ('LR', LinearRegression())\n",
        "ridge = ('Ridge', Ridge(alpha=500))\n",
        "knn = ('KNN', KNeighborsRegressor(n_neighbors=8))\n",
        "cart = ('CART', DecisionTreeRegressor(min_samples_leaf=10))\n",
        "bagging = ('BR', BaggingRegressor(n_estimators=100))\n",
        "g_boosting = ('GB', GradientBoostingRegressor())\n",
        "\n",
        "\n",
        "# Transformações que serão utilizadas\n",
        "select_kbest = ('skb', SelectKBest(k = 10))\n",
        "extra_trees = ('feature_selection', SelectFromModel(ExtraTreesRegressor(n_estimators=100)))\n",
        "\n",
        "# Montando os pipelines\n",
        "\n",
        "# Dataset original\n",
        "pipelines.append(('LR-orig', Pipeline([lr])))\n",
        "pipelines.append(('Ridge-orig', Pipeline([ridge])))\n",
        "pipelines.append(('KNN-orig', Pipeline([knn])))\n",
        "pipelines.append(('CART-orig', Pipeline([cart])))\n",
        "pipelines.append(('BR-orig', Pipeline([bagging])))\n",
        "pipelines.append(('GB-orig', Pipeline([g_boosting])))\n",
        "\n",
        "\n",
        "# Feature Selection SelectKBest\n",
        "pipelines.append(('LR-skb', Pipeline([select_kbest, lr])))\n",
        "pipelines.append(('Ridge-skb', Pipeline([select_kbest, ridge])))\n",
        "pipelines.append(('KNN-skb', Pipeline([select_kbest, knn])))\n",
        "pipelines.append(('CART-skb', Pipeline([select_kbest, cart])))\n",
        "pipelines.append(('BR-skb', Pipeline([select_kbest, bagging])))\n",
        "pipelines.append(('GB-skb', Pipeline([select_kbest, g_boosting])))\n",
        "\n",
        "# Feature Selection ExtraTrees\n",
        "pipelines.append(('LR-ET', Pipeline([extra_trees, lr])))\n",
        "pipelines.append(('Ridge-ET', Pipeline([extra_trees, ridge])))\n",
        "pipelines.append(('KNN-ET', Pipeline([extra_trees, knn])))\n",
        "pipelines.append(('CART-ET', Pipeline([extra_trees, cart])))\n",
        "pipelines.append(('BR-ET', Pipeline([extra_trees, bagging])))\n",
        "pipelines.append(('GB-ET', Pipeline([extra_trees, g_boosting])))\n",
        "\n",
        "# Executando os pipelines\n",
        "for name, model in pipelines:\n",
        "    cv_results = cross_val_score(model, X_train, y_train, cv=kfold, scoring=scoring)\n",
        "    results.append(abs(cv_results))\n",
        "    names.append(name)\n",
        "    msg = '%s: MSE %0.2f (%0.2f) - RMSE %0.2f' % (name, abs(cv_results.mean()), cv_results.std(), np.sqrt(abs(cv_results.mean())))\n",
        "    print(msg)\n",
        "\n",
        "\n",
        "# Boxplot de comparação dos modelos\n",
        "fig = plt.figure(figsize=(25,6))\n",
        "fig.suptitle('Comparação dos Modelos')\n",
        "ax = fig.add_subplot(111)\n",
        "plt.boxplot(results)\n",
        "ax.set_xticklabels(names, rotation=90)\n",
        "plt.show()"
      ],
      "metadata": {
        "colab": {
          "base_uri": "https://localhost:8080/",
          "height": 0
        },
        "id": "G8i3swHgYuZJ",
        "outputId": "395ca9ea-85d7-40b8-f3d9-89ca9f3e70ec"
      },
      "execution_count": 41,
      "outputs": [
        {
          "output_type": "stream",
          "name": "stdout",
          "text": [
            "LR-orig: MSE 28536.78 (1552.05) - RMSE 168.93\n",
            "Ridge-orig: MSE 28618.04 (1536.33) - RMSE 169.17\n",
            "KNN-orig: MSE 31269.85 (1990.75) - RMSE 176.83\n",
            "CART-orig: MSE 30840.28 (1777.13) - RMSE 175.61\n",
            "BR-orig: MSE 27955.54 (1570.73) - RMSE 167.20\n",
            "GB-orig: MSE 25951.26 (1541.53) - RMSE 161.09\n",
            "LR-skb: MSE 28919.11 (1503.10) - RMSE 170.06\n",
            "Ridge-skb: MSE 29013.17 (1493.66) - RMSE 170.33\n",
            "KNN-skb: MSE 30470.95 (1379.03) - RMSE 174.56\n",
            "CART-skb: MSE 29927.54 (1545.95) - RMSE 173.00\n",
            "BR-skb: MSE 30170.91 (1275.71) - RMSE 173.70\n",
            "GB-skb: MSE 26183.06 (1481.33) - RMSE 161.81\n",
            "LR-ET: MSE 29599.90 (1597.70) - RMSE 172.05\n",
            "Ridge-ET: MSE 29668.92 (1568.69) - RMSE 172.25\n",
            "KNN-ET: MSE 30969.36 (1419.16) - RMSE 175.98\n",
            "CART-ET: MSE 30150.27 (1272.61) - RMSE 173.64\n",
            "BR-ET: MSE 31694.37 (1237.56) - RMSE 178.03\n",
            "GB-ET: MSE 26905.35 (1430.61) - RMSE 164.03\n"
          ]
        },
        {
          "output_type": "display_data",
          "data": {
            "text/plain": [
              "<Figure size 2500x600 with 1 Axes>"
            ],
            "image/png": "[encoded data removed]"
          },
          "metadata": {}
        }
      ]
    },
    {
      "cell_type": "markdown",
      "source": [
        "#### Normalização e Padronização"
      ],
      "metadata": {
        "id": "g-euyMPLbWdE"
      }
    },
    {
      "cell_type": "markdown",
      "source": [
        "Uma outra forma de buscar uma melhora do desempenho dos algoritmos é diminuir a discrepância de escala entre as variáveis, que pode afetar os pesos atribuídos no resultado da regressão. Com esse intuito, foram testados os métodos de padronização e normalização."
      ],
      "metadata": {
        "id": "Uw6YJOzhw6QV"
      }
    },
    {
      "cell_type": "code",
      "source": [
        "\n",
        "# definindo uma semente\n",
        "np.random.seed(seed)\n",
        "\n",
        "# Listas para armazenar os armazenar os pipelines e os resultados\n",
        "pipelines = []\n",
        "results = []\n",
        "names = []\n",
        "\n",
        "\n",
        "# Criando os elementos do pipeline\n",
        "\n",
        "# Algoritmos que serão utilizados\n",
        "lr = ('LR', LinearRegression())\n",
        "ridge = ('Ridge', Ridge(alpha=500))\n",
        "knn = ('KNN', KNeighborsRegressor(n_neighbors=8))\n",
        "cart = ('CART', DecisionTreeRegressor(min_samples_leaf=10))\n",
        "bagging = ('BR', BaggingRegressor(n_estimators=100, max_features=10))\n",
        "g_boosting = ('GB', GradientBoostingRegressor())\n",
        "\n",
        "\n",
        "# Transformações que serão utilizadas\n",
        "standard_scaler = ('StandardScaler', StandardScaler())\n",
        "min_max_scaler = ('MinMaxScaler', MinMaxScaler())\n",
        "\n",
        "\n",
        "# Montando os pipelines\n",
        "\n",
        "# Dataset original\n",
        "pipelines.append(('LR-orig', Pipeline([lr])))\n",
        "pipelines.append(('Ridge-orig', Pipeline([ridge])))\n",
        "pipelines.append(('KNN-orig', Pipeline([knn])))\n",
        "pipelines.append(('CART-orig', Pipeline([cart])))\n",
        "pipelines.append(('BR-orig', Pipeline([bagging])))\n",
        "pipelines.append(('GB-orig', Pipeline([g_boosting])))\n",
        "\n",
        "\n",
        "# Dataset Padronizado\n",
        "pipelines.append(('LR-std', Pipeline([standard_scaler, lr])))\n",
        "pipelines.append(('Ridge-std', Pipeline([standard_scaler, ridge])))\n",
        "pipelines.append(('KNN-std', Pipeline([standard_scaler, knn])))\n",
        "pipelines.append(('CART-std', Pipeline([standard_scaler, cart])))\n",
        "pipelines.append(('BR-std', Pipeline([standard_scaler, bagging])))\n",
        "pipelines.append(('GB-std', Pipeline([standard_scaler, g_boosting])))\n",
        "\n",
        "# Dataset Normalizado\n",
        "pipelines.append(('LR-norm', Pipeline([min_max_scaler, lr])))\n",
        "pipelines.append(('Ridge-norm', Pipeline([min_max_scaler, ridge])))\n",
        "pipelines.append(('KNN-norm', Pipeline([min_max_scaler, knn])))\n",
        "pipelines.append(('CART-norm', Pipeline([min_max_scaler, cart])))\n",
        "pipelines.append(('BR-norm', Pipeline([min_max_scaler, bagging])))\n",
        "pipelines.append(('GB-norm', Pipeline([min_max_scaler, g_boosting])))\n",
        "\n",
        "# Executando os pipelines\n",
        "for name, model in pipelines:\n",
        "    cv_results = cross_val_score(model, X_train, y_train, cv=kfold, scoring=scoring)\n",
        "    results.append(abs(cv_results))\n",
        "    names.append(name)\n",
        "    msg = '%s: MSE %0.2f (%0.2f) - RMSE %0.2f' % (name, abs(cv_results.mean()), cv_results.std(), np.sqrt(abs(cv_results.mean())))\n",
        "    print(msg)\n",
        "\n",
        "\n",
        "# Boxplot de comparação dos modelos\n",
        "fig = plt.figure(figsize=(25,6))\n",
        "fig.suptitle('Comparação dos Modelos')\n",
        "ax = fig.add_subplot(111)\n",
        "plt.boxplot(results)\n",
        "ax.set_xticklabels(names, rotation=90)\n",
        "plt.show()"
      ],
      "metadata": {
        "colab": {
          "base_uri": "https://localhost:8080/",
          "height": 953
        },
        "id": "ftLxgymci-b8",
        "outputId": "97fd2ce5-358f-4ba5-c5c5-6982e50f5354"
      },
      "execution_count": 42,
      "outputs": [
        {
          "output_type": "stream",
          "name": "stdout",
          "text": [
            "LR-orig: MSE 28536.78 (1552.05) - RMSE 168.93\n",
            "Ridge-orig: MSE 28618.04 (1536.33) - RMSE 169.17\n",
            "KNN-orig: MSE 31269.85 (1990.75) - RMSE 176.83\n",
            "CART-orig: MSE 30840.28 (1777.13) - RMSE 175.61\n",
            "BR-orig: MSE 26716.13 (1389.09) - RMSE 163.45\n",
            "GB-orig: MSE 25951.26 (1541.53) - RMSE 161.09\n",
            "LR-std: MSE 28536.78 (1552.05) - RMSE 168.93\n",
            "Ridge-std: MSE 28545.38 (1538.99) - RMSE 168.95\n",
            "KNN-std: MSE 29700.02 (1336.46) - RMSE 172.34\n",
            "CART-std: MSE 30845.67 (1779.97) - RMSE 175.63\n",
            "BR-std: MSE 26753.23 (1409.18) - RMSE 163.56\n",
            "GB-std: MSE 25965.71 (1537.11) - RMSE 161.14\n",
            "LR-norm: MSE 28536.78 (1552.05) - RMSE 168.93\n",
            "Ridge-norm: MSE 32905.93 (1989.99) - RMSE 181.40\n",
            "KNN-norm: MSE 30333.65 (1468.79) - RMSE 174.17\n",
            "CART-norm: MSE 30831.09 (1771.38) - RMSE 175.59\n",
            "BR-norm: MSE 26819.67 (1438.78) - RMSE 163.77\n",
            "GB-norm: MSE 25953.90 (1542.35) - RMSE 161.10\n"
          ]
        },
        {
          "output_type": "display_data",
          "data": {
            "text/plain": [
              "<Figure size 2500x600 with 1 Axes>"
            ],
            "image/png": "[encoded data removed]"
          },
          "metadata": {}
        }
      ]
    },
    {
      "cell_type": "markdown",
      "source": [
        "#### Conclusões da etapa"
      ],
      "metadata": {
        "id": "UicEvWoA4GYG"
      }
    },
    {
      "cell_type": "markdown",
      "source": [
        "**Feature Selection**\n",
        "\n",
        "A redução de variáveis para os algoritmos utilizados não apresentou grandes diferenças para a métrica MSE na maioria deles. Especialmente entre aqueles com estrutura baseada em árvore de decisão, a realização de uma seleção prévia de atributos provocou uma piora de desempenho em alguns deles, já anteriormente haviam mais elementos para as decisões em cada nó.\n"
      ],
      "metadata": {
        "id": "EpY-Ilwqv9N0"
      }
    },
    {
      "cell_type": "markdown",
      "source": [
        "**Normalização e padronização**\n",
        "\n",
        "Com os ajustes de normalização e padronização do dataset, percebemos que o modelo que sofre maior variação é o KNN, embora ainda assim não consiga superar os demais de forma significativa.\n",
        "Por outro lado, nota-se que modelos como o de regressão linear com a regularização Ridge, chegam até a apresentar uma piora no caso da normalização, pois o tal método concorre com a regularização já aplicada.\n",
        "Também fica claro na comparação que os modelos que utilizam algoritmos do tipo 'árvore' são pouco afetados por esse tipo de transformação dos dados, uma vez que já lidam bem com essas variações por princípio."
      ],
      "metadata": {
        "id": "On1rTVmb1hG4"
      }
    },
    {
      "cell_type": "markdown",
      "source": [
        "### 3) Modelo final"
      ],
      "metadata": {
        "id": "0OycScX51JMg"
      }
    },
    {
      "cell_type": "markdown",
      "source": [
        "Uma vez que identificamos, por sucessivas experimentações, um melhor desempenho do ensemble 'Gradient Boosting' em comparação com outras opções de algoritmos, consideremos este como opção final para o problema proposto.\n",
        "\n",
        "No entanto, ainda é possível melhorar seu desempenho otimizando os hiperparâmentros do modelo."
      ],
      "metadata": {
        "id": "rlNj4NYe1WyR"
      }
    },
    {
      "cell_type": "markdown",
      "source": [
        "#### Otimização com GridSearch"
      ],
      "metadata": {
        "id": "3O0MPDyu6lkX"
      }
    },
    {
      "cell_type": "markdown",
      "source": [
        "Utilizaremos o algoritmo GridSearch para testar algumas variações dos hiperparâmetros do modelo Gradient Boosting, com a intenção de melhorar seu desempenho, ou seja, reduzir a média do erro quadrado (MSE)."
      ],
      "metadata": {
        "id": "4nS7NWxu6wVd"
      }
    },
    {
      "cell_type": "code",
      "source": [
        "# Tuning do Gradient Boosting\n",
        "\n",
        "np.random.seed(seed) # definindo uma semente global para este bloco\n",
        "\n",
        "\n",
        "# Definindo os componentes do pipeline\n",
        "g_boosting = GradientBoostingRegressor()\n",
        "\n",
        "\n",
        "param = {'learning_rate': [0.1,0.05,0.03],\n",
        "         'n_estimators' : [100,150,200],\n",
        "         'max_depth'    : [4,6,10]\n",
        "}\n",
        "\n",
        "# Prepara e executa o GridSearchCV\n",
        "grid_GB = GridSearchCV(estimator=g_boosting, param_grid=param, scoring=scoring, cv=kfold)\n",
        "grid_GB.fit(X_train, y_train)\n",
        "\n",
        "# imprime a melhor configuração\n",
        "print('Melhor: %f usando %s' % (grid_GB.best_score_, grid_GB.best_params_))"
      ],
      "metadata": {
        "colab": {
          "base_uri": "https://localhost:8080/"
        },
        "id": "Q7-vQFxJiTkC",
        "outputId": "8ae3cce7-607b-496c-b8bf-3431a652aa82"
      },
      "execution_count": 44,
      "outputs": [
        {
          "output_type": "stream",
          "name": "stdout",
          "text": [
            "Melhor: -25861.993055 usando {'learning_rate': 0.05, 'max_depth': 6, 'n_estimators': 100}\n"
          ]
        }
      ]
    },
    {
      "cell_type": "markdown",
      "source": [
        "#### Treinamento do modelo final"
      ],
      "metadata": {
        "id": "_eRHRDgaG0GE"
      }
    },
    {
      "cell_type": "code",
      "source": [
        "\n",
        "# Preparação do modelo\n",
        "\n",
        "l_rate = 0.05\n",
        "n_estim = 100\n",
        "max_depth = 6\n",
        "\n",
        "model = GradientBoostingRegressor(learning_rate=l_rate, n_estimators=n_estim,)\n",
        "\n",
        "model.fit(X_train, y_train)\n",
        "\n",
        "# salva o modelo\n",
        "joblib.dump(model, 'airbnb_predictions_GB.joblib')"
      ],
      "metadata": {
        "colab": {
          "base_uri": "https://localhost:8080/"
        },
        "id": "iHYycEvpGKwV",
        "outputId": "a26b3f2a-2260-4ec4-e14f-3f80f72c952a"
      },
      "execution_count": 45,
      "outputs": [
        {
          "output_type": "execute_result",
          "data": {
            "text/plain": [
              "['airbnb_predictions_GB.joblib']"
            ]
          },
          "metadata": {},
          "execution_count": 45
        }
      ]
    },
    {
      "cell_type": "markdown",
      "source": [
        "## Implementação no dataset teste"
      ],
      "metadata": {
        "id": "-vDKATiWLuqr"
      }
    },
    {
      "cell_type": "code",
      "source": [
        "# caso queira fazer o load\n",
        "# do modelo treinado em outro momento\n",
        "\n",
        "file_id = '1TIzX18dZxJ_ZqKLVNmvj-naLwbBIBVha'\n",
        "url = f'https://drive.google.com/uc?id={file_id}'\n",
        "\n",
        "output = 'airbnb_predictions_GB.joblib'\n",
        "gdown.download(url, output)\n",
        "\n",
        "model = joblib.load(output)"
      ],
      "metadata": {
        "colab": {
          "base_uri": "https://localhost:8080/"
        },
        "id": "AIU2wEgYLmJe",
        "outputId": "1e0e2dc2-796f-4797-c46e-9aac446d7ac5"
      },
      "execution_count": 49,
      "outputs": [
        {
          "output_type": "stream",
          "name": "stderr",
          "text": [
            "Downloading...\n",
            "From: https://drive.google.com/uc?id=1TIzX18dZxJ_ZqKLVNmvj-naLwbBIBVha\n",
            "To: /content/airbnb_predictions_GB.joblib\n",
            "100%|██████████| 177k/177k [00:00<00:00, 41.7MB/s]\n"
          ]
        }
      ]
    },
    {
      "cell_type": "code",
      "source": [
        "# Predições com o conjunto de teste\n",
        "predictions = model.predict(X_test)\n",
        "\n",
        "# Estimando o MSE e o RMSE no conjunto de teste\n",
        "mse = mean_squared_error(y_test, predictions)\n",
        "print(\"MSE %0.2f\" % mse)\n",
        "print(\"RMSE %0.2f\" % np.sqrt(abs(mse)))"
      ],
      "metadata": {
        "colab": {
          "base_uri": "https://localhost:8080/"
        },
        "id": "aM429cAqMoYW",
        "outputId": "e398f496-438e-42de-f2c3-bc45766b6a51"
      },
      "execution_count": 50,
      "outputs": [
        {
          "output_type": "stream",
          "name": "stdout",
          "text": [
            "MSE 27034.13\n",
            "RMSE 164.42\n"
          ]
        }
      ]
    },
    {
      "cell_type": "markdown",
      "source": [
        "## Avaliação dos Resultados"
      ],
      "metadata": {
        "id": "wj8XXrZ2Qgdv"
      }
    },
    {
      "cell_type": "markdown",
      "source": [
        "### Avaliação das métricas:\n"
      ],
      "metadata": {
        "id": "A9lesTeSQygw"
      }
    },
    {
      "cell_type": "markdown",
      "source": [
        "**Métricas Escolhidas:**\n",
        "\n",
        "Considerando que se trata de um problema de regressão, optamos então por utilizar métricas relacionadas à medidas de erro do modelo, como MSE e RMSE. Para a comparação entre cada modelo, usamos a MSE, especialmente na observação dos gráficos. No entanto, para uma melhor leitura do resultado final, observamos a RMSE, por nos dar um resultado na mesma escala dos valores de saída."
      ],
      "metadata": {
        "id": "uygO7_HDHfHJ"
      }
    },
    {
      "cell_type": "markdown",
      "source": [
        "**Avaliação:**\n",
        "\n",
        "O modelo final treinado não apresentou overfitting no dataset de treino, tendo apresentado resultados semelhantes no dataset de teste.\n",
        "\n",
        "No entanto, o valor que se observa para a RMSE mostra um erro médio bastante alto considerando o conjunto. Isto porque, quando observamos a distribuição dos preços das acomodações no dataset de treino, por exemplo, constatamos que o valor médio das diárias está entre 200 e 400 dólares, ao passo que a RMSE do modelo fica próxima de 200."
      ],
      "metadata": {
        "id": "VxeKDyXIOTtF"
      }
    },
    {
      "cell_type": "code",
      "source": [
        "# histograma dados de treino\n",
        "\n",
        "np.random.seed(seed)# fixando seed para a célula\n",
        "\n",
        "sn.histplot(y_train, kde=True)\n",
        "plt.xlabel('price', size=11)\n",
        "plt.axvline(x=y_train.mean(), color='purple', ls='--',)\n"
      ],
      "metadata": {
        "id": "LQ7wsa8HLVDA",
        "colab": {
          "base_uri": "https://localhost:8080/",
          "height": 477
        },
        "outputId": "d1f6f0fb-a538-4943-dd23-2c99b0b1753a"
      },
      "execution_count": 53,
      "outputs": [
        {
          "output_type": "execute_result",
          "data": {
            "text/plain": [
              "<matplotlib.lines.Line2D at 0x7f801b0d4820>"
            ]
          },
          "metadata": {},
          "execution_count": 53
        },
        {
          "output_type": "display_data",
          "data": {
            "text/plain": [
              "<Figure size 640x480 with 1 Axes>"
            ],
            "image/png": "[encoded data removed]"
          },
          "metadata": {}
        }
      ]
    },
    {
      "cell_type": "markdown",
      "source": [
        "Por outro lado, percebemos que a distribuição não segue propiamente uma  normal. Isso pode fazer com que o algoritmo tenha dificuldade no aprendizado em relação às faixas de preço de menor ocorrência. Com isso, a média do erro tende também a ser maior."
      ],
      "metadata": {
        "id": "vDOfMk46XTVb"
      }
    },
    {
      "cell_type": "markdown",
      "source": [
        "É possível ainda que as variáveis disponíveis não sejam suficientes para uma predição mais precisa do modelo, tratando-se de um problema mais complexo do que a abordagem empregada."
      ],
      "metadata": {
        "id": "PCXSKqR_TJsz"
      }
    },
    {
      "cell_type": "markdown",
      "source": [
        "### Possibilidades para melhora do desempenho:"
      ],
      "metadata": {
        "id": "8ENu-JfKS4BF"
      }
    },
    {
      "cell_type": "markdown",
      "source": [
        "Para a uma melhora do desempenho do modelo teríamos alguns possíveis caminhos para adotar:\n",
        "\n",
        "- ***maior input de dados:*** se aumentarmos a quantidade de dados introduzida no modelo, temos um alto potencial para que seu aprendizado seja mais preciso. Ao final do pre-processamento do dataset, resultaram apenas 15.193 entradas, o que se mostrou pouco para um problema dessa complexidade.\n",
        "\n",
        "- ***variáveis:*** uma vez que o modelo final escolhido lida de forma consistente com um alto conjunto de variáveis, poderia ser interessante agregar mais informações sobre as acomodações - especialmente em relação à sua localização/bairro - para uma melhor leitura do modelo.\n",
        "\n",
        "- ***fatores não considerados:*** algumas questões que implicam também na variação dos preços do Airbnb não foram consideradas para esta proposta, como por exemplo a sazonalidade do aluguel. Nesse ponto, a coleta dos dados realizou apenas uma fotografia de um momento (por questões de simplificação prática para este exercício), enquanto há uma realidade dinâmica em relação a esses preços."
      ],
      "metadata": {
        "id": "YzcXYhYBTEwe"
      }
    }
  ]
}